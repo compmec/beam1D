{
 "cells": [
  {
   "cell_type": "markdown",
   "source": "# Cantilever with end load",
   "metadata": {
    "tags": [],
    "cell_id": "f8a86ab8-90f4-471f-b0c1-bfe6df3ff443",
    "owner_user_id": "4ceab1a1-ba24-4c76-8c5a-89e7333425d4",
    "deepnote_cell_type": "markdown",
    "deepnote_cell_height": 82
   }
  },
  {
   "cell_type": "markdown",
   "source": "Let's suppose that we have a bar with\n\n* Lenght $L$\n* Elasticity $E$\n* Poisson $\\nu$\n* Diameter $d$\n\nAnd it's tracted with a force $P$, as shown in the figure",
   "metadata": {
    "tags": [],
    "cell_id": "00001-e67bf319-701b-4179-b430-c4b4d0c84d22",
    "deepnote_cell_type": "markdown",
    "deepnote_cell_height": 201.39999389648438
   }
  },
  {
   "cell_type": "markdown",
   "source": "With the Euler-Bernoulli Beam, we will have\n\n$$\nN(x) = 0\n$$\n$$\nV(x) = -P\n$$\n$$\nM(x) = P(L-x)\n$$",
   "metadata": {
    "tags": [],
    "cell_id": "00002-8cc74fe0-0dc4-44e4-aa0e-58d6a1f4777c",
    "deepnote_cell_type": "markdown",
    "deepnote_cell_height": 175.60000610351562
   }
  },
  {
   "cell_type": "markdown",
   "source": "Our solution is only\n\n$$\nw(x) = \\dfrac{PL^{3}}{3EI} \\cdot \\left[\\dfrac{3}{2}\\left(\\dfrac{x}{L}\\right)^2 - \\dfrac{1}{2}\\left(\\dfrac{x}{L}\\right)^{3}\\right] \n$$",
   "metadata": {
    "tags": [],
    "cell_id": "00003-31f788ca-5925-4982-8fe1-764ab317c5c8",
    "deepnote_cell_type": "markdown",
    "deepnote_cell_height": 121.76666259765625
   }
  },
  {
   "cell_type": "markdown",
   "source": "For a circular section of diameter $d$, we have\n\n$$\nI = \\dfrac{\\pi d^4}{64}\n$$\n\nTherefore\n\n$$\nw(x) = \\dfrac{64PL^{3}}{3\\pi Ed^4} \\cdot \\left[\\dfrac{3}{2}\\left(\\dfrac{x}{L}\\right)^2 - \\dfrac{1}{2}\\left(\\dfrac{x}{L}\\right)^{3}\\right] \n$$",
   "metadata": {
    "cell_id": "7a5aba20356f40239a75cedffa5e29fb",
    "tags": [],
    "deepnote_cell_type": "markdown",
    "deepnote_cell_height": 209.0500030517578
   }
  },
  {
   "cell_type": "markdown",
   "source": "And the rotation is\n\n$$\n\\theta_{z} = \\dfrac{dw}{dx} = \\dfrac{64PL^2}{3\\pi Ed^4}\\left[3\\left(\\dfrac{x}{L}\\right) - \\dfrac{3}{2}\\left(\\dfrac{x}{L}\\right)^2\\right]\n$$",
   "metadata": {
    "cell_id": "7fa9f978d2ce4ff58fd41a653c8f981f",
    "tags": [],
    "deepnote_cell_type": "markdown",
    "deepnote_cell_height": 121.76666259765625
   }
  },
  {
   "cell_type": "markdown",
   "source": "Now, let's go to the code",
   "metadata": {
    "tags": [],
    "cell_id": "00004-1fad5bb6-ea0f-4632-9f2f-0809052cdbf4",
    "deepnote_cell_type": "markdown",
    "deepnote_cell_height": 52.399993896484375
   }
  },
  {
   "cell_type": "markdown",
   "source": "# Implementation",
   "metadata": {
    "tags": [],
    "cell_id": "00005-8b036051-3eb6-4f99-b780-63ab4854df88",
    "deepnote_cell_type": "markdown",
    "deepnote_cell_height": 82
   }
  },
  {
   "cell_type": "markdown",
   "source": "The initial values",
   "metadata": {
    "tags": [],
    "cell_id": "00006-312541aa-08b2-4640-8f54-ec8df134c6cb",
    "deepnote_cell_type": "markdown",
    "deepnote_cell_height": 52.399993896484375
   }
  },
  {
   "cell_type": "code",
   "metadata": {
    "tags": [],
    "deepnote_to_be_reexecuted": false,
    "source_hash": "31d44756",
    "execution_start": 1654991859587,
    "execution_millis": 44,
    "cell_id": "00007-2d488174-370f-43b9-86f5-de4e090ae436",
    "deepnote_cell_type": "code",
    "deepnote_cell_height": 171
   },
   "source": "import numpy as np\nL = 1\nE = 4/np.pi\nnu = 0.0  # This value doesn't matter to the final answer, but it's needed\nd = 2\nP = 4",
   "execution_count": 1,
   "outputs": []
  },
  {
   "cell_type": "markdown",
   "source": "We create the material we will use",
   "metadata": {
    "tags": [],
    "cell_id": "00008-45a667e1-8c37-4ac6-8978-34ab536388a9",
    "deepnote_cell_type": "markdown",
    "deepnote_cell_height": 52.399993896484375
   }
  },
  {
   "cell_type": "code",
   "metadata": {
    "tags": [],
    "deepnote_to_be_reexecuted": false,
    "source_hash": "18f69289",
    "execution_start": 1654991859631,
    "execution_millis": 23,
    "cell_id": "00009-22e3d0a8-c10a-43c1-9bc8-a861c4a99ab0",
    "deepnote_cell_type": "code",
    "deepnote_cell_height": 99
   },
   "source": "from material import Isotropic\nsteel = Isotropic(E=E, nu=nu)",
   "execution_count": 2,
   "outputs": []
  },
  {
   "cell_type": "markdown",
   "source": "We create our section",
   "metadata": {
    "tags": [],
    "cell_id": "00010-a2f6f42a-b474-43b6-86db-327902d20277",
    "deepnote_cell_type": "markdown",
    "deepnote_cell_height": 52.399993896484375
   }
  },
  {
   "cell_type": "code",
   "metadata": {
    "tags": [],
    "deepnote_to_be_reexecuted": false,
    "source_hash": "551c8bf8",
    "execution_start": 1654991859671,
    "execution_millis": 16,
    "cell_id": "00011-a729713c-c5f4-4d9f-959a-e0e00dad0933",
    "deepnote_cell_type": "code",
    "deepnote_cell_height": 99
   },
   "source": "from section import Circle\ncircle = Circle(R=d/2, nu=nu)",
   "execution_count": 3,
   "outputs": []
  },
  {
   "cell_type": "markdown",
   "source": "We create the beam",
   "metadata": {
    "tags": [],
    "cell_id": "00012-656c606b-43dd-4215-b708-8bbb8a956d62",
    "deepnote_cell_type": "markdown",
    "deepnote_cell_height": 52.399993896484375
   }
  },
  {
   "cell_type": "code",
   "metadata": {
    "tags": [],
    "deepnote_to_be_reexecuted": false,
    "source_hash": "860b0a91",
    "execution_start": 1654991859698,
    "execution_millis": 2940,
    "cell_id": "00013-503c73c7-f049-4417-bbe9-9b26e4c3d6be",
    "deepnote_cell_type": "code",
    "deepnote_cell_height": 171
   },
   "source": "from beam import EulerBernoulli\nA = (0, 0, 0)\nB = (L, 0, 0)\nbar = EulerBernoulli(A, B)\nbar.material = steel\nbar.section = circle",
   "execution_count": 4,
   "outputs": []
  },
  {
   "cell_type": "markdown",
   "source": "We add the displacement vector ```U``` and the force ```F```\n\nThe values of ```U``` are\n\n$$\n\\bold{U} =\n\\begin{bmatrix}\nu_{1x} & u_{1y} & u_{1z} & \\theta_{1x} & \\theta_{1y} & \\theta_{1z} \\\\\n\\vdots & \\vdots & \\vdots & \\vdots & \\vdots & \\vdots \\\\\nu_{ix} & u_{iy} & u_{iz} & \\theta_{ix} & \\theta_{iy} & \\theta_{2z} \\\\\n\\vdots & \\vdots & \\vdots & \\vdots & \\vdots & \\vdots \\\\\nu_{nx} & u_{ny} & u_{nz} & \\theta_{nx} & \\theta_{ny} & \\theta_{nz} \\\\\n\\end{bmatrix}\n$$\n\n",
   "metadata": {
    "tags": [],
    "cell_id": "00014-da944a66-bf59-49ff-93b5-9865eb695e42",
    "deepnote_cell_type": "markdown",
    "deepnote_cell_height": 220.46665954589844
   }
  },
  {
   "cell_type": "markdown",
   "source": "And the values of ```F``` are\n\n$$\n\\bold{F} =\n\\begin{bmatrix}\nF_{1x} & F_{1y} & F_{1z} & M_{1x} & M_{1y} & M_{1z} \\\\\n\\vdots & \\vdots & \\vdots & \\vdots & \\vdots & \\vdots \\\\\nF_{ix} & F_{iy} & F_{iz} & M_{ix} & M_{iy} & M_{2z} \\\\\n\\vdots & \\vdots & \\vdots & \\vdots & \\vdots & \\vdots \\\\\nF_{nx} & F_{ny} & F_{nz} & M_{nx} & M_{ny} & M_{nz} \\\\\n\\end{bmatrix}\n$$",
   "metadata": {
    "tags": [],
    "cell_id": "00015-52cb339e-375b-4df7-b540-1ca894a36559",
    "deepnote_cell_type": "markdown",
    "deepnote_cell_height": 184.06666564941406
   }
  },
  {
   "cell_type": "markdown",
   "source": "So, ```U[i]``` means the displacement (and rotation) of the point ```i```, and the ```F[i]``` is the force applied in the node ```i```",
   "metadata": {
    "tags": [],
    "cell_id": "00016-77f4293e-8dcf-4a77-b03f-658fd2094354",
    "deepnote_cell_type": "markdown",
    "deepnote_cell_height": 74.80000305175781
   }
  },
  {
   "cell_type": "code",
   "metadata": {
    "tags": [],
    "deepnote_to_be_reexecuted": false,
    "source_hash": "c499b74e",
    "execution_start": 1654991862646,
    "execution_millis": 20,
    "cell_id": "00017-9ac2c214-5981-4a83-a436-f87b3005c346",
    "deepnote_cell_type": "code",
    "deepnote_cell_height": 117
   },
   "source": "n = 2  # number of points\nU = np.empty((n, 6), dtype=\"object\")\nF = np.zeros((n, 6))",
   "execution_count": 5,
   "outputs": []
  },
  {
   "cell_type": "markdown",
   "source": "We add the boundary conditions. \n\nFor that, we only know that at point $A$ (index ```0```), $u_{x}$ is fixed.\n\nSo, ```U``` is like\n\n$$\n\\bold{U}\n= \\begin{bmatrix}\n0 & 0 & u_{Az} & \\theta_{Ax} & \\theta_{Ay} & 0 \\\\\nu_{Bx} & u_{By} & u_{Bz} & \\theta_{Bx} & \\theta_{By} & \\theta_{Bz} \\\\ \n\\end{bmatrix}\n$$",
   "metadata": {
    "tags": [],
    "cell_id": "00018-96a1241b-96bf-45cb-8530-5f9fd67cf6cb",
    "deepnote_cell_type": "markdown",
    "deepnote_cell_height": 193.86666870117188
   }
  },
  {
   "cell_type": "code",
   "metadata": {
    "tags": [],
    "deepnote_to_be_reexecuted": false,
    "source_hash": "e274990b",
    "execution_start": 1654991862686,
    "execution_millis": 419,
    "cell_id": "00019-be3d2e4d-3185-4084-a2f4-9cab0ef87f6a",
    "deepnote_cell_type": "code",
    "deepnote_cell_height": 222
   },
   "source": "U[0, 0] = 0  # At point A, ux = 0\nU[0, 1] = 0  # At point A, uy = 0\nU[0, 5] = 0  # At point A, theta_z = 0\nprint(\"U = \")\nprint(U)",
   "execution_count": 6,
   "outputs": [
    {
     "name": "stdout",
     "text": "U = \n[[0 0 None None None 0]\n [None None None None None None]]\n",
     "output_type": "stream"
    }
   ]
  },
  {
   "cell_type": "markdown",
   "source": "We add the force at the point $B$.\n\nFor that, we know that at point $B$ (index ```1```), $F_{x} = P$.\n\nSo, ```F``` is like\n\n$$\n\\bold{F} =\n\\begin{bmatrix}\n0 & 0 & 0 & 0 & 0 & 0 \\\\\n0 & P & 0 & 0 & 0 & 0\n\\end{bmatrix}\n$$",
   "metadata": {
    "tags": [],
    "cell_id": "00020-59a16298-155b-416b-8893-df9ddd812f26",
    "deepnote_cell_type": "markdown",
    "deepnote_cell_height": 193.86666870117188
   }
  },
  {
   "cell_type": "code",
   "metadata": {
    "tags": [],
    "deepnote_to_be_reexecuted": false,
    "source_hash": "1322c4a9",
    "execution_start": 1654991862740,
    "execution_millis": 7,
    "cell_id": "00021-9fc42a8c-50c6-4848-9fcd-abf814e4a769",
    "deepnote_cell_type": "code",
    "deepnote_cell_height": 186
   },
   "source": "F[1, 1] = P  # At point B, Fx = P\nprint(\"F = \")\nprint(F)",
   "execution_count": 7,
   "outputs": [
    {
     "name": "stdout",
     "text": "F = \n[[0. 0. 0. 0. 0. 0.]\n [0. 4. 0. 0. 0. 0.]]\n",
     "output_type": "stream"
    }
   ]
  },
  {
   "cell_type": "markdown",
   "source": "We get the stiffness matrix $K$.\n\nThe matrix is given by\n\n$$\n\\bold{K}_{11} = \n\\begin{bmatrix}\n\\frac{EA_x}{L} & 0 & 0 & 0 & 0 & 0 \\\\\n0 & \\frac{12EI_{z}}{L^3} & 0 & 0 & 0 & \\frac{6EI_{z}}{L^2} \\\\\n0 & 0 & \\frac{12EI_{y}}{L^3} &  0 & \\frac{-6EI_{y}}{L^2} \\\\\n0 & 0 & 0 & \\frac{GJ}{L} & 0 & 0 \\\\\n0 & 0 & \\frac{-6EI_{y}}{L^2} & 0 & \\frac{4EI_{y}}{L} & 0 \\\\\n0 & \\frac{6EI_{z}}{L^2}& 0 & 0 & 0 & \\frac{4EI_{z}}{L} \n\\end{bmatrix}\n$$\n\n$$\n\\bold{K}_{12} = \n\\begin{bmatrix}\n\\frac{-EA_x}{L} & 0 & 0 & 0 & 0 & 0 \\\\\n0 & \\frac{-12EI_{z}}{L^3} & 0 & 0 & 0 & \\frac{6EI_{z}}{L^2} \\\\\n0 & 0 & \\frac{-12EI_{y}}{L^3} &  0 & \\frac{-6EI_{y}}{L^2} \\\\\n0 & 0 & 0 & \\frac{-GJ}{L} & 0 & 0 \\\\\n0 & 0 & \\frac{6EI_{y}}{L^2} & 0 & \\frac{2EI_{y}}{L} & 0 \\\\\n0 & \\frac{-6EI_{z}}{L^2}& 0 & 0 & 0 & \\frac{2EI_{z}}{L} \n\\end{bmatrix}\n$$\n\n$$\n\\bold{K}_{22} = \n\\begin{bmatrix}\n\\frac{EA_x}{L} & 0 & 0 & 0 & 0 & 0 \\\\\n0 & \\frac{12EI_{z}}{L^3} & 0 & 0 & 0 & \\frac{-6EI_{z}}{L^2} \\\\\n0 & 0 & \\frac{12EI_{y}}{L^3} &  0 & \\frac{6EI_{y}}{L^2} \\\\\n0 & 0 & 0 & \\frac{GJ}{L} & 0 & 0 \\\\\n0 & 0 & \\frac{6EI_{y}}{L^2} & 0 & \\frac{4EI_{y}}{L} & 0 \\\\\n0 & \\frac{-6EI_{z}}{L^2}& 0 & 0 & 0 & \\frac{4EI_{z}}{L} \n\\end{bmatrix}\n$$\n\n$$\n\\bold{K} = \n\\begin{bmatrix}\n\\bold{K}_{11} & \\bold{K}_{12} \\\\\n\\bold{K}_{12}^T & \\bold{K}_{22}\n\\end{bmatrix}\n$$",
   "metadata": {
    "tags": [],
    "cell_id": "00022-8c644b16-092f-49c5-ac63-b7f78528fb49",
    "deepnote_cell_type": "markdown",
    "deepnote_cell_height": 589.2333374023438
   }
  },
  {
   "cell_type": "markdown",
   "source": "For exemple, with the values of\n\n$$\nL = 1; \\ \\ \\ \\ \\ \\ E = \\dfrac{4}{\\pi}; \\ \\ \\ \\ \\ \\ \\nu = 0 ; \\ \\ \\ \\ \\ \\ d = 2\n$$\n\nWe have the matrix\n",
   "metadata": {
    "tags": [],
    "cell_id": "00023-8f00c09b-b80e-4f46-a453-95f4e1e88ec1",
    "deepnote_cell_type": "markdown",
    "deepnote_cell_height": 136.8000030517578
   }
  },
  {
   "cell_type": "markdown",
   "source": "$$\nK = \n\\begin{bmatrix}\n4 & & & & & & -4 & & & & & \\\\\n& 12 & & & & 6 & & -12 &  & & & 6 \\\\\n& & 12 & & -6 & & & & -12 & & -6 & \\\\\n& & & 1 & & & & & & -1 & & \\\\\n& & -6 & & 4 & & & & 6 & & 2 & \\\\\n& 6 & & & & 4 & & -6 &  & & & 2 \\\\\n-4 & & & & & & 4 & & & & & \\\\\n& -12 & & & & -6 & & 12 &  & & & -6 \\\\\n& & -12 & & 6 & & & & 12 & & 6 & \\\\\n& & & -1 & & & & & & 1 & & \\\\\n& & -6 & & 2 & & & & 6 & & 4 & \\\\\n& 6 & & & & 2 & & -6 &  & & & 4 \\\\\n\\end{bmatrix}\n$$",
   "metadata": {
    "tags": [],
    "cell_id": "00024-ec9398cd-0ce7-4497-b46b-59cc5a803784",
    "deepnote_cell_type": "markdown",
    "deepnote_cell_height": 302.23333740234375
   }
  },
  {
   "cell_type": "code",
   "metadata": {
    "tags": [],
    "deepnote_to_be_reexecuted": false,
    "source_hash": "6e32f252",
    "execution_start": 1654991862838,
    "execution_millis": 271,
    "cell_id": "00025-7eed297c-f964-48da-9f78-c0443ff93e1c",
    "deepnote_cell_type": "code",
    "deepnote_cell_height": 378
   },
   "source": "K = bar.stiffness_matrix()\nprint(\"K = \")\nprint(K.reshape(12, 12))",
   "execution_count": 8,
   "outputs": [
    {
     "name": "stdout",
     "text": "K = \n[[  4.   0.   0.   0.   0.   0.  -4.   0.   0.   0.   0.   0.]\n [  0.  12.   0.   0.   0.   6.   0. -12.   0.   0.   0.   6.]\n [  0.   0.  12.   0.  -6.   0.   0.   0. -12.   0.  -6.   0.]\n [  0.   0.   0.   1.   0.   0.   0.   0.   0.  -1.   0.   0.]\n [  0.   0.  -6.   0.   4.   0.   0.   0.   6.   0.   2.   0.]\n [  0.   6.   0.   0.   0.   4.   0.  -6.   0.   0.   0.   2.]\n [ -4.   0.   0.   0.   0.   0.   4.   0.   0.   0.   0.   0.]\n [  0. -12.   0.   0.   0.  -6.   0.  12.   0.   0.   0.  -6.]\n [  0.   0. -12.   0.   6.   0.   0.   0.  12.   0.   6.   0.]\n [  0.   0.   0.  -1.   0.   0.   0.   0.   0.   1.   0.   0.]\n [  0.   0.  -6.   0.   2.   0.   0.   0.   6.   0.   4.   0.]\n [  0.   6.   0.   0.   0.   2.   0.  -6.   0.   0.   0.   4.]]\n",
     "output_type": "stream"
    }
   ]
  },
  {
   "cell_type": "markdown",
   "source": "Now we solve:",
   "metadata": {
    "tags": [],
    "cell_id": "00026-01752194-8503-4f56-8ac8-da1a994d181c",
    "deepnote_cell_type": "markdown",
    "deepnote_cell_height": 52.399993896484375
   }
  },
  {
   "cell_type": "code",
   "metadata": {
    "tags": [],
    "deepnote_to_be_reexecuted": false,
    "source_hash": "30e06377",
    "execution_start": 1654991862939,
    "execution_millis": 185,
    "cell_id": "00027-c74d4111-e86b-4b53-8d83-ad6dacc285dd",
    "deepnote_cell_type": "code",
    "deepnote_cell_height": 355
   },
   "source": "from solver import solve\nU, F = solve(K, F, U)\nprint(\"U = \")\nprint(U)\nprint(\"F = \")\nprint(F)",
   "execution_count": 9,
   "outputs": [
    {
     "name": "stdout",
     "text": "U = \n[[0 0 0.0 -8.503891277624186e-16 3.4716473218127884e-16 0]\n [1.2197192242084906e-16 1.3333333333333326 -3.8152118412066535e-16\n  -1.0186753265537028e-15 4.158776360600516e-16 1.9999999999999982]]\nF = \n[[-4.8788769e-16 -4.0000000e+00  0.0000000e+00  0.0000000e+00\n   0.0000000e+00 -4.0000000e+00]\n [ 0.0000000e+00  4.0000000e+00  0.0000000e+00  0.0000000e+00\n   0.0000000e+00  0.0000000e+00]]\n",
     "output_type": "stream"
    }
   ]
  },
  {
   "cell_type": "markdown",
   "source": "The expected value of the equation \n\n$$\nw(x) = \\dfrac{64PL^{3}}{3\\pi Ed^4} \\cdot \\left[\\dfrac{3}{2}\\left(\\dfrac{x}{L}\\right)^2 - \\dfrac{1}{2}\\left(\\dfrac{x}{L}\\right)^{3}\\right] \n$$\n\nat $x = L$ and with the given data, gives us \n\n$$\nw(L) = \\dfrac{64PL^3}{3\\pi Ed^4} = \\dfrac{64 \\cdot 4 \\cdot 1^{3}}{3 \\pi \\cdot \\dfrac{4}{\\pi} \\cdot 2^{4}} = \\dfrac{4}{3} \\approx 1.333\n$$\n\n",
   "metadata": {
    "tags": [],
    "cell_id": "00028-ad85b121-37b0-4d9f-a94f-399d07164a07",
    "deepnote_cell_type": "markdown",
    "deepnote_cell_height": 229.5833282470703
   }
  },
  {
   "cell_type": "markdown",
   "source": "The rotation $\\theta_{z}(x)$ is given by\n\n\n$$\n\\theta_{z}(x) = \\dfrac{64PL^2}{3\\pi Ed^4}\\left[3\\left(\\dfrac{x}{L}\\right) - \\dfrac{3}{2}\\left(\\dfrac{x}{L}\\right)^2\\right]\n$$\n\nat $x = L$ with the given data\n\n$$\n\\theta_{z}(L) = \\dfrac{64 \\cdot 4 \\cdot 1^2}{3\\pi \\cdot \\dfrac{4}{\\pi} \\cdot 2^4}\\left[3 - \\dfrac{3}{2}\\right] = 2\n$$",
   "metadata": {
    "cell_id": "0cb3a38e784842468098f33b095141ca",
    "tags": [],
    "deepnote_cell_type": "markdown",
    "deepnote_cell_height": 229.5833282470703
   }
  },
  {
   "cell_type": "markdown",
   "source": "<a style='text-decoration:none;line-height:16px;display:flex;color:#5B5B62;padding:10px;justify-content:end;' href='https://deepnote.com?utm_source=created-in-deepnote-cell&projectId=302ab669-ec31-4508-87f9-ef972d3ec2c5' target=\"_blank\">\n<img alt='Created in deepnote.com' style='display:inline;max-height:16px;margin:0px;margin-right:7.5px;' src='data:image/svg+xml;base64,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' > </img>\nCreated in <span style='font-weight:600;margin-left:4px;'>Deepnote</span></a>",
   "metadata": {
    "tags": [],
    "created_in_deepnote_cell": true,
    "deepnote_cell_type": "markdown"
   }
  }
 ],
 "nbformat": 4,
 "nbformat_minor": 2,
 "metadata": {
  "orig_nbformat": 2,
  "deepnote": {},
  "deepnote_notebook_id": "d0702689-165a-43d6-a3fc-60abea05875f",
  "deepnote_execution_queue": []
 }
}