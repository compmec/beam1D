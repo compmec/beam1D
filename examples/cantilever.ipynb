{
 "cells": [
  {
   "cell_type": "markdown",
   "metadata": {},
   "source": [
    "[![Open In Colab](https://colab.research.google.com/assets/colab-badge.svg)](https://colab.research.google.com/github/compmec/beam1D/blob/main/examples/cantilever.ipynb)"
   ]
  },
  {
   "cell_type": "markdown",
   "metadata": {
    "cell_id": "f8a86ab8-90f4-471f-b0c1-bfe6df3ff443",
    "deepnote_cell_height": 82,
    "deepnote_cell_type": "markdown",
    "owner_user_id": "4ceab1a1-ba24-4c76-8c5a-89e7333425d4",
    "tags": []
   },
   "source": [
    "# Cantilever with end load"
   ]
  },
  {
   "cell_type": "markdown",
   "metadata": {
    "cell_id": "00001-e67bf319-701b-4179-b430-c4b4d0c84d22",
    "deepnote_cell_height": 201.39999389648438,
    "deepnote_cell_type": "markdown",
    "tags": []
   },
   "source": [
    "Let's suppose that we have a bar with\n",
    "\n",
    "* Lenght $L$\n",
    "* Elasticity $E$\n",
    "* Poisson $\\nu$\n",
    "* Diameter $d$\n",
    "\n",
    "And it's tracted with a force $P$, as shown in the figure"
   ]
  },
  {
   "cell_type": "markdown",
   "metadata": {
    "cell_id": "00002-8cc74fe0-0dc4-44e4-aa0e-58d6a1f4777c",
    "deepnote_cell_height": 175.60000610351562,
    "deepnote_cell_type": "markdown",
    "tags": []
   },
   "source": [
    "With the Euler-Bernoulli Beam, we will have\n",
    "\n",
    "$$\n",
    "N(x) = 0\n",
    "$$\n",
    "$$\n",
    "V(x) = -P\n",
    "$$\n",
    "$$\n",
    "M(x) = P(L-x)\n",
    "$$"
   ]
  },
  {
   "cell_type": "markdown",
   "metadata": {
    "cell_id": "00003-31f788ca-5925-4982-8fe1-764ab317c5c8",
    "deepnote_cell_height": 121.76666259765625,
    "deepnote_cell_type": "markdown",
    "tags": []
   },
   "source": [
    "Our solution is only\n",
    "\n",
    "$$\n",
    "w(x) = \\dfrac{PL^{3}}{3EI} \\cdot \\left[\\dfrac{3}{2}\\left(\\dfrac{x}{L}\\right)^2 - \\dfrac{1}{2}\\left(\\dfrac{x}{L}\\right)^{3}\\right] \n",
    "$$"
   ]
  },
  {
   "cell_type": "markdown",
   "metadata": {
    "cell_id": "7a5aba20356f40239a75cedffa5e29fb",
    "deepnote_cell_height": 209.0500030517578,
    "deepnote_cell_type": "markdown",
    "tags": []
   },
   "source": [
    "For a circular section of diameter $d$, we have\n",
    "\n",
    "$$\n",
    "I = \\dfrac{\\pi d^4}{64}\n",
    "$$\n",
    "\n",
    "Therefore\n",
    "\n",
    "$$\n",
    "w(x) = \\dfrac{64PL^{3}}{3\\pi Ed^4} \\cdot \\left[\\dfrac{3}{2}\\left(\\dfrac{x}{L}\\right)^2 - \\dfrac{1}{2}\\left(\\dfrac{x}{L}\\right)^{3}\\right] \n",
    "$$"
   ]
  },
  {
   "cell_type": "markdown",
   "metadata": {
    "cell_id": "7fa9f978d2ce4ff58fd41a653c8f981f",
    "deepnote_cell_height": 121.76666259765625,
    "deepnote_cell_type": "markdown",
    "tags": []
   },
   "source": [
    "And the rotation is\n",
    "\n",
    "$$\n",
    "\\theta_{z} = \\dfrac{dw}{dx} = \\dfrac{64PL^2}{3\\pi Ed^4}\\left[3\\left(\\dfrac{x}{L}\\right) - \\dfrac{3}{2}\\left(\\dfrac{x}{L}\\right)^2\\right]\n",
    "$$"
   ]
  },
  {
   "cell_type": "markdown",
   "metadata": {
    "cell_id": "00004-1fad5bb6-ea0f-4632-9f2f-0809052cdbf4",
    "deepnote_cell_height": 52.399993896484375,
    "deepnote_cell_type": "markdown",
    "tags": []
   },
   "source": [
    "Now, let's go to the code"
   ]
  },
  {
   "cell_type": "markdown",
   "metadata": {
    "cell_id": "00005-8b036051-3eb6-4f99-b780-63ab4854df88",
    "deepnote_cell_height": 82,
    "deepnote_cell_type": "markdown",
    "tags": []
   },
   "source": [
    "# Implementation"
   ]
  },
  {
   "cell_type": "markdown",
   "metadata": {
    "cell_id": "00006-312541aa-08b2-4640-8f54-ec8df134c6cb",
    "deepnote_cell_height": 52.399993896484375,
    "deepnote_cell_type": "markdown",
    "tags": []
   },
   "source": [
    "The initial values"
   ]
  },
  {
   "cell_type": "code",
   "execution_count": 1,
   "metadata": {
    "cell_id": "00007-2d488174-370f-43b9-86f5-de4e090ae436",
    "deepnote_cell_height": 171,
    "deepnote_cell_type": "code",
    "deepnote_to_be_reexecuted": false,
    "execution_millis": 44,
    "execution_start": 1654991859587,
    "source_hash": "31d44756",
    "tags": []
   },
   "outputs": [],
   "source": [
    "import numpy as np\n",
    "np.set_printoptions(precision=3, suppress=True) # To have a clean print\n",
    "L = 1\n",
    "E = 4/np.pi\n",
    "nu = 0.0  # This value doesn't matter to the final answer, but it's needed\n",
    "d = 2\n",
    "P = 4"
   ]
  },
  {
   "cell_type": "markdown",
   "metadata": {
    "cell_id": "00008-45a667e1-8c37-4ac6-8978-34ab536388a9",
    "deepnote_cell_height": 52.399993896484375,
    "deepnote_cell_type": "markdown",
    "tags": []
   },
   "source": [
    "We create the material we will use"
   ]
  },
  {
   "cell_type": "code",
   "execution_count": 2,
   "metadata": {
    "cell_id": "00009-22e3d0a8-c10a-43c1-9bc8-a861c4a99ab0",
    "deepnote_cell_height": 99,
    "deepnote_cell_type": "code",
    "deepnote_to_be_reexecuted": false,
    "execution_millis": 23,
    "execution_start": 1654991859631,
    "source_hash": "18f69289",
    "tags": []
   },
   "outputs": [],
   "source": [
    "from material import Isotropic\n",
    "steel = Isotropic(E=E, nu=nu)"
   ]
  },
  {
   "cell_type": "markdown",
   "metadata": {
    "cell_id": "00010-a2f6f42a-b474-43b6-86db-327902d20277",
    "deepnote_cell_height": 52.399993896484375,
    "deepnote_cell_type": "markdown",
    "tags": []
   },
   "source": [
    "We create our section"
   ]
  },
  {
   "cell_type": "code",
   "execution_count": 3,
   "metadata": {
    "cell_id": "00011-a729713c-c5f4-4d9f-959a-e0e00dad0933",
    "deepnote_cell_height": 99,
    "deepnote_cell_type": "code",
    "deepnote_to_be_reexecuted": false,
    "execution_millis": 16,
    "execution_start": 1654991859671,
    "source_hash": "551c8bf8",
    "tags": []
   },
   "outputs": [],
   "source": [
    "from section import Circle\n",
    "circle = Circle(R=d/2, nu=nu)"
   ]
  },
  {
   "cell_type": "markdown",
   "metadata": {
    "cell_id": "00012-656c606b-43dd-4215-b708-8bbb8a956d62",
    "deepnote_cell_height": 52.399993896484375,
    "deepnote_cell_type": "markdown",
    "tags": []
   },
   "source": [
    "We create the beam"
   ]
  },
  {
   "cell_type": "code",
   "execution_count": 4,
   "metadata": {
    "cell_id": "00013-503c73c7-f049-4417-bbe9-9b26e4c3d6be",
    "deepnote_cell_height": 171,
    "deepnote_cell_type": "code",
    "deepnote_to_be_reexecuted": false,
    "execution_millis": 2940,
    "execution_start": 1654991859698,
    "source_hash": "860b0a91",
    "tags": []
   },
   "outputs": [],
   "source": [
    "from beam import EulerBernoulli\n",
    "A = (0, 0, 0)\n",
    "B = (L, 0, 0)\n",
    "bar = EulerBernoulli(A, B)\n",
    "bar.material = steel\n",
    "bar.section = circle"
   ]
  },
  {
   "cell_type": "markdown",
   "metadata": {
    "cell_id": "00014-da944a66-bf59-49ff-93b5-9865eb695e42",
    "deepnote_cell_height": 220.46665954589844,
    "deepnote_cell_type": "markdown",
    "tags": []
   },
   "source": [
    "We add the displacement vector ```U``` and the force ```F```\n",
    "\n",
    "The values of ```U``` are\n",
    "\n",
    "$$\n",
    "U =\n",
    "\\begin{bmatrix}\n",
    "u_{1x} & u_{1y} & u_{1z} & \\theta_{1x} & \\theta_{1y} & \\theta_{1z} \\\\\n",
    "\\vdots & \\vdots & \\vdots & \\vdots & \\vdots & \\vdots \\\\\n",
    "u_{ix} & u_{iy} & u_{iz} & \\theta_{ix} & \\theta_{iy} & \\theta_{2z} \\\\\n",
    "\\vdots & \\vdots & \\vdots & \\vdots & \\vdots & \\vdots \\\\\n",
    "u_{nx} & u_{ny} & u_{nz} & \\theta_{nx} & \\theta_{ny} & \\theta_{nz} \\\\\n",
    "\\end{bmatrix}\n",
    "$$\n",
    "\n"
   ]
  },
  {
   "cell_type": "markdown",
   "metadata": {
    "cell_id": "00015-52cb339e-375b-4df7-b540-1ca894a36559",
    "deepnote_cell_height": 184.06666564941406,
    "deepnote_cell_type": "markdown",
    "tags": []
   },
   "source": [
    "And the values of ```F``` are\n",
    "\n",
    "$$\n",
    "F =\n",
    "\\begin{bmatrix}\n",
    "F_{1x} & F_{1y} & F_{1z} & M_{1x} & M_{1y} & M_{1z} \\\\\n",
    "\\vdots & \\vdots & \\vdots & \\vdots & \\vdots & \\vdots \\\\\n",
    "F_{ix} & F_{iy} & F_{iz} & M_{ix} & M_{iy} & M_{2z} \\\\\n",
    "\\vdots & \\vdots & \\vdots & \\vdots & \\vdots & \\vdots \\\\\n",
    "F_{nx} & F_{ny} & F_{nz} & M_{nx} & M_{ny} & M_{nz} \\\\\n",
    "\\end{bmatrix}\n",
    "$$"
   ]
  },
  {
   "cell_type": "markdown",
   "metadata": {
    "cell_id": "00016-77f4293e-8dcf-4a77-b03f-658fd2094354",
    "deepnote_cell_height": 74.80000305175781,
    "deepnote_cell_type": "markdown",
    "tags": []
   },
   "source": [
    "So, ```U[i]``` means the displacement (and rotation) of the point ```i```, and the ```F[i]``` is the force applied in the node ```i```"
   ]
  },
  {
   "cell_type": "code",
   "execution_count": 5,
   "metadata": {
    "cell_id": "00017-9ac2c214-5981-4a83-a436-f87b3005c346",
    "deepnote_cell_height": 117,
    "deepnote_cell_type": "code",
    "deepnote_to_be_reexecuted": false,
    "execution_millis": 20,
    "execution_start": 1654991862646,
    "source_hash": "c499b74e",
    "tags": []
   },
   "outputs": [],
   "source": [
    "n = 2  # number of points\n",
    "U = np.empty((n, 6), dtype=\"object\")\n",
    "F = np.zeros((n, 6))"
   ]
  },
  {
   "cell_type": "markdown",
   "metadata": {
    "cell_id": "00018-96a1241b-96bf-45cb-8530-5f9fd67cf6cb",
    "deepnote_cell_height": 193.86666870117188,
    "deepnote_cell_type": "markdown",
    "tags": []
   },
   "source": [
    "We add the boundary conditions. \n",
    "\n",
    "For that, we only know that at point $A$ (index ```0```), $u_{x}$ is fixed.\n",
    "\n",
    "So, ```U``` is like\n",
    "\n",
    "$$\n",
    "U\n",
    "= \\begin{bmatrix}\n",
    "0 & 0 & u_{Az} & \\theta_{Ax} & \\theta_{Ay} & 0 \\\\\n",
    "u_{Bx} & u_{By} & u_{Bz} & \\theta_{Bx} & \\theta_{By} & \\theta_{Bz} \\\\ \n",
    "\\end{bmatrix}\n",
    "$$"
   ]
  },
  {
   "cell_type": "code",
   "execution_count": 6,
   "metadata": {
    "cell_id": "00019-be3d2e4d-3185-4084-a2f4-9cab0ef87f6a",
    "deepnote_cell_height": 222,
    "deepnote_cell_type": "code",
    "deepnote_to_be_reexecuted": false,
    "execution_millis": 419,
    "execution_start": 1654991862686,
    "source_hash": "e274990b",
    "tags": []
   },
   "outputs": [
    {
     "name": "stdout",
     "output_type": "stream",
     "text": [
      "U = \n",
      "[[0 0 None None None 0]\n",
      " [None None None None None None]]\n"
     ]
    }
   ],
   "source": [
    "U[0, 0] = 0  # At point A, ux = 0\n",
    "U[0, 1] = 0  # At point A, uy = 0\n",
    "U[0, 5] = 0  # At point A, theta_z = 0\n",
    "print(\"U = \")\n",
    "print(U)"
   ]
  },
  {
   "cell_type": "markdown",
   "metadata": {
    "cell_id": "00020-59a16298-155b-416b-8893-df9ddd812f26",
    "deepnote_cell_height": 193.86666870117188,
    "deepnote_cell_type": "markdown",
    "tags": []
   },
   "source": [
    "We add the force at the point $B$.\n",
    "\n",
    "For that, we know that at point $B$ (index ```1```), $F_{x} = P$.\n",
    "\n",
    "So, ```F``` is like\n",
    "\n",
    "$$\n",
    "F =\n",
    "\\begin{bmatrix}\n",
    "0 & 0 & 0 & 0 & 0 & 0 \\\\\n",
    "0 & P & 0 & 0 & 0 & 0\n",
    "\\end{bmatrix}\n",
    "$$"
   ]
  },
  {
   "cell_type": "code",
   "execution_count": 7,
   "metadata": {
    "cell_id": "00021-9fc42a8c-50c6-4848-9fcd-abf814e4a769",
    "deepnote_cell_height": 186,
    "deepnote_cell_type": "code",
    "deepnote_to_be_reexecuted": false,
    "execution_millis": 7,
    "execution_start": 1654991862740,
    "source_hash": "1322c4a9",
    "tags": []
   },
   "outputs": [
    {
     "name": "stdout",
     "output_type": "stream",
     "text": [
      "F = \n",
      "[[0. 0. 0. 0. 0. 0.]\n",
      " [0. 4. 0. 0. 0. 0.]]\n"
     ]
    }
   ],
   "source": [
    "F[1, 1] = P  # At point B, Fx = P\n",
    "print(\"F = \")\n",
    "print(F)"
   ]
  },
  {
   "cell_type": "markdown",
   "metadata": {},
   "source": [
    "We get the stiffness matrix $K$.\n",
    "\n",
    "The matrix is given by\n",
    "\n",
    "$$\n",
    "K_{11} = \n",
    "\\begin{bmatrix}\n",
    "\\frac{EA_x}{L} & 0 & 0 & 0 & 0 & 0 \\\\\n",
    "0 & \\frac{12EI_{z}}{L^3} & 0 & 0 & 0 & \\frac{6EI_{z}}{L^2} \\\\\n",
    "0 & 0 & \\frac{12EI_{y}}{L^3} &  0 & \\frac{-6EI_{y}}{L^2} \\\\\n",
    "0 & 0 & 0 & \\frac{GJ}{L} & 0 & 0 \\\\\n",
    "0 & 0 & \\frac{-6EI_{y}}{L^2} & 0 & \\frac{4EI_{y}}{L} & 0 \\\\\n",
    "0 & \\frac{6EI_{z}}{L^2}& 0 & 0 & 0 & \\frac{4EI_{z}}{L} \n",
    "\\end{bmatrix}\n",
    "$$"
   ]
  },
  {
   "cell_type": "markdown",
   "metadata": {},
   "source": [
    "$$\n",
    "K_{12} = \n",
    "\\begin{bmatrix}\n",
    "\\frac{-EA_x}{L} & 0 & 0 & 0 & 0 & 0 \\\\\n",
    "0 & \\frac{-12EI_{z}}{L^3} & 0 & 0 & 0 & \\frac{6EI_{z}}{L^2} \\\\\n",
    "0 & 0 & \\frac{-12EI_{y}}{L^3} &  0 & \\frac{-6EI_{y}}{L^2} \\\\\n",
    "0 & 0 & 0 & \\frac{-GJ}{L} & 0 & 0 \\\\\n",
    "0 & 0 & \\frac{6EI_{y}}{L^2} & 0 & \\frac{2EI_{y}}{L} & 0 \\\\\n",
    "0 & \\frac{-6EI_{z}}{L^2}& 0 & 0 & 0 & \\frac{2EI_{z}}{L} \n",
    "\\end{bmatrix}\n",
    "$$"
   ]
  },
  {
   "cell_type": "markdown",
   "metadata": {},
   "source": [
    "$$\n",
    "K_{22} = \n",
    "\\begin{bmatrix}\n",
    "\\frac{EA_x}{L} & 0 & 0 & 0 & 0 & 0 \\\\\n",
    "0 & \\frac{12EI_{z}}{L^3} & 0 & 0 & 0 & \\frac{-6EI_{z}}{L^2} \\\\\n",
    "0 & 0 & \\frac{12EI_{y}}{L^3} &  0 & \\frac{6EI_{y}}{L^2} \\\\\n",
    "0 & 0 & 0 & \\frac{GJ}{L} & 0 & 0 \\\\\n",
    "0 & 0 & \\frac{6EI_{y}}{L^2} & 0 & \\frac{4EI_{y}}{L} & 0 \\\\\n",
    "0 & \\frac{-6EI_{z}}{L^2}& 0 & 0 & 0 & \\frac{4EI_{z}}{L} \n",
    "\\end{bmatrix}\n",
    "$$"
   ]
  },
  {
   "cell_type": "markdown",
   "metadata": {
    "cell_id": "00022-8c644b16-092f-49c5-ac63-b7f78528fb49",
    "deepnote_cell_height": 589.2333374023438,
    "deepnote_cell_type": "markdown",
    "tags": []
   },
   "source": [
    "$$\n",
    "K = \n",
    "\\begin{bmatrix}\n",
    "K_{11} & K_{12} \\\\\n",
    "K_{12}^T & K_{22}\n",
    "\\end{bmatrix}\n",
    "$$"
   ]
  },
  {
   "cell_type": "markdown",
   "metadata": {
    "cell_id": "00023-8f00c09b-b80e-4f46-a453-95f4e1e88ec1",
    "deepnote_cell_height": 136.8000030517578,
    "deepnote_cell_type": "markdown",
    "tags": []
   },
   "source": [
    "For exemple, with the values of\n",
    "\n",
    "$$\n",
    "L = 1; \\ \\ \\ \\ \\ \\ E = \\dfrac{4}{\\pi}; \\ \\ \\ \\ \\ \\ \\nu = 0 ; \\ \\ \\ \\ \\ \\ d = 2\n",
    "$$\n",
    "\n",
    "We have the matrix\n"
   ]
  },
  {
   "cell_type": "markdown",
   "metadata": {
    "cell_id": "00024-ec9398cd-0ce7-4497-b46b-59cc5a803784",
    "deepnote_cell_height": 302.23333740234375,
    "deepnote_cell_type": "markdown",
    "tags": []
   },
   "source": [
    "$$\n",
    "K = \n",
    "\\begin{bmatrix}\n",
    "4 & & & & & & -4 & & & & & \\\\\n",
    "& 12 & & & & 6 & & -12 &  & & & 6 \\\\\n",
    "& & 12 & & -6 & & & & -12 & & -6 & \\\\\n",
    "& & & 1 & & & & & & -1 & & \\\\\n",
    "& & -6 & & 4 & & & & 6 & & 2 & \\\\\n",
    "& 6 & & & & 4 & & -6 &  & & & 2 \\\\\n",
    "-4 & & & & & & 4 & & & & & \\\\\n",
    "& -12 & & & & -6 & & 12 &  & & & -6 \\\\\n",
    "& & -12 & & 6 & & & & 12 & & 6 & \\\\\n",
    "& & & -1 & & & & & & 1 & & \\\\\n",
    "& & -6 & & 2 & & & & 6 & & 4 & \\\\\n",
    "& 6 & & & & 2 & & -6 &  & & & 4 \\\\\n",
    "\\end{bmatrix}\n",
    "$$"
   ]
  },
  {
   "cell_type": "code",
   "execution_count": 8,
   "metadata": {
    "cell_id": "00025-7eed297c-f964-48da-9f78-c0443ff93e1c",
    "deepnote_cell_height": 378,
    "deepnote_cell_type": "code",
    "deepnote_to_be_reexecuted": false,
    "execution_millis": 271,
    "execution_start": 1654991862838,
    "source_hash": "6e32f252",
    "tags": []
   },
   "outputs": [
    {
     "name": "stdout",
     "output_type": "stream",
     "text": [
      "K = \n",
      "[[  4.   0.   0.   0.   0.   0.  -4.   0.   0.   0.   0.   0.]\n",
      " [  0.  12.   0.   0.   0.   6.   0. -12.   0.   0.   0.   6.]\n",
      " [  0.   0.  12.   0.  -6.   0.   0.   0. -12.   0.  -6.   0.]\n",
      " [  0.   0.   0.   1.   0.   0.   0.   0.   0.  -1.   0.   0.]\n",
      " [  0.   0.  -6.   0.   4.   0.   0.   0.   6.   0.   2.   0.]\n",
      " [  0.   6.   0.   0.   0.   4.   0.  -6.   0.   0.   0.   2.]\n",
      " [ -4.   0.   0.   0.   0.   0.   4.   0.   0.   0.   0.   0.]\n",
      " [  0. -12.   0.   0.   0.  -6.   0.  12.   0.   0.   0.  -6.]\n",
      " [  0.   0. -12.   0.   6.   0.   0.   0.  12.   0.   6.   0.]\n",
      " [  0.   0.   0.  -1.   0.   0.   0.   0.   0.   1.   0.   0.]\n",
      " [  0.   0.  -6.   0.   2.   0.   0.   0.   6.   0.   4.   0.]\n",
      " [  0.   6.   0.   0.   0.   2.   0.  -6.   0.   0.   0.   4.]]\n"
     ]
    }
   ],
   "source": [
    "K = bar.stiffness_matrix()\n",
    "print(\"K = \")\n",
    "print(K.reshape(12, 12))"
   ]
  },
  {
   "cell_type": "markdown",
   "metadata": {
    "cell_id": "00026-01752194-8503-4f56-8ac8-da1a994d181c",
    "deepnote_cell_height": 52.399993896484375,
    "deepnote_cell_type": "markdown",
    "tags": []
   },
   "source": [
    "Now we solve:"
   ]
  },
  {
   "cell_type": "code",
   "execution_count": 9,
   "metadata": {
    "cell_id": "00027-c74d4111-e86b-4b53-8d83-ad6dacc285dd",
    "deepnote_cell_height": 355,
    "deepnote_cell_type": "code",
    "deepnote_to_be_reexecuted": false,
    "execution_millis": 185,
    "execution_start": 1654991862939,
    "source_hash": "30e06377",
    "tags": []
   },
   "outputs": [
    {
     "name": "stdout",
     "output_type": "stream",
     "text": [
      "U = \n",
      "[[ 0.     0.     0.    -0.     0.     0.   ]\n",
      " [ 0.     1.333 -0.    -0.     0.     2.   ]]\n",
      "F = \n",
      "[[-0. -4.  0.  0.  0. -4.]\n",
      " [ 0.  4.  0.  0.  0.  0.]]\n"
     ]
    }
   ],
   "source": [
    "from solver import solve\n",
    "U, F = solve(K, F, U)\n",
    "U = np.array(U, dtype=\"float64\")\n",
    "print(\"U = \")\n",
    "print(U)\n",
    "print(\"F = \")\n",
    "print(F)"
   ]
  },
  {
   "cell_type": "markdown",
   "metadata": {
    "cell_id": "00028-ad85b121-37b0-4d9f-a94f-399d07164a07",
    "deepnote_cell_height": 229.5833282470703,
    "deepnote_cell_type": "markdown",
    "tags": []
   },
   "source": [
    "The expected value of the equation \n",
    "\n",
    "$$\n",
    "w(x) = \\dfrac{64PL^{3}}{3\\pi Ed^4} \\cdot \\left[\\dfrac{3}{2}\\left(\\dfrac{x}{L}\\right)^2 - \\dfrac{1}{2}\\left(\\dfrac{x}{L}\\right)^{3}\\right] \n",
    "$$\n",
    "\n",
    "at $x = L$ and with the given data, gives us \n",
    "\n",
    "$$\n",
    "w(L) = \\dfrac{64PL^3}{3\\pi Ed^4} = \\dfrac{64 \\cdot 4 \\cdot 1^{3}}{3 \\pi \\cdot \\dfrac{4}{\\pi} \\cdot 2^{4}} = \\dfrac{4}{3} \\approx 1.333\n",
    "$$\n",
    "\n"
   ]
  },
  {
   "cell_type": "markdown",
   "metadata": {
    "cell_id": "0cb3a38e784842468098f33b095141ca",
    "deepnote_cell_height": 229.5833282470703,
    "deepnote_cell_type": "markdown",
    "tags": []
   },
   "source": [
    "The rotation $\\theta_{z}(x)$ is given by\n",
    "\n",
    "\n",
    "$$\n",
    "\\theta_{z}(x) = \\dfrac{64PL^2}{3\\pi Ed^4}\\left[3\\left(\\dfrac{x}{L}\\right) - \\dfrac{3}{2}\\left(\\dfrac{x}{L}\\right)^2\\right]\n",
    "$$\n",
    "\n",
    "at $x = L$ with the given data\n",
    "\n",
    "$$\n",
    "\\theta_{z}(L) = \\dfrac{64 \\cdot 4 \\cdot 1^2}{3\\pi \\cdot \\dfrac{4}{\\pi} \\cdot 2^4}\\left[3 - \\dfrac{3}{2}\\right] = 2\n",
    "$$"
   ]
  }
 ],
 "metadata": {
  "deepnote": {},
  "deepnote_execution_queue": [],
  "deepnote_notebook_id": "d0702689-165a-43d6-a3fc-60abea05875f",
  "kernelspec": {
   "display_name": "Python 3.10.5 64-bit (windows store)",
   "language": "python",
   "name": "python3"
  },
  "language_info": {
   "codemirror_mode": {
    "name": "ipython",
    "version": 3
   },
   "file_extension": ".py",
   "mimetype": "text/x-python",
   "name": "python",
   "nbconvert_exporter": "python",
   "pygments_lexer": "ipython3",
   "version": "3.10.5"
  },
  "orig_nbformat": 2,
  "vscode": {
   "interpreter": {
    "hash": "410621c85258efa0ea47ad915638abc1a4a3304f33944a818dfb0fc7cd918640"
   }
  }
 },
 "nbformat": 4,
 "nbformat_minor": 2
}
