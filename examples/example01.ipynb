{
 "cells": [
  {
   "attachments": {},
   "cell_type": "markdown",
   "metadata": {},
   "source": [
    "## Online available\n",
    "\n",
    "[![Open In Colab](https://colab.research.google.com/assets/colab-badge.svg)](https://colab.research.google.com/github/compmec/strct/blob/main/examples/example01.ipynb)\n",
    "\n",
    "At [Github/compmec/strct/examples/example01.ipynb](https://github.com/compmec/strct/blob/main/examples/example01.ipynb)"
   ]
  },
  {
   "cell_type": "markdown",
   "metadata": {},
   "source": [
    "# Example 01\n",
    "\n",
    "![](https://raw.githubusercontent.com/compmec/strct/examples/examples/img/example01_prob.png)\n"
   ]
  },
  {
   "cell_type": "markdown",
   "metadata": {},
   "source": [
    "First we import what we will use."
   ]
  },
  {
   "cell_type": "code",
   "execution_count": 30,
   "metadata": {},
   "outputs": [],
   "source": [
    "try:\n",
    "    import compmec.strct\n",
    "except ModuleNotFoundError as e:\n",
    "    import os\n",
    "    os.system(\"pip install compmec-nurbs\")\n",
    "    os.system(\"pip install compmec-strct\")\n",
    "import numpy as np\n",
    "from matplotlib import pyplot as plt\n",
    "from compmec.strct.element import EulerBernoulli\n",
    "from compmec.strct.profile import Circle\n",
    "from compmec.strct.material import Isotropic\n",
    "from compmec.strct.system import StaticSystem\n",
    "from compmec.strct.shower import ShowerStaticSystem"
   ]
  },
  {
   "cell_type": "markdown",
   "metadata": {},
   "source": [
    "Then we create the elements we will use "
   ]
  },
  {
   "cell_type": "code",
   "execution_count": 31,
   "metadata": {},
   "outputs": [],
   "source": [
    "A = (0, 0, 0)\n",
    "B = (1000, 0, 0)\n",
    "beamAB = EulerBernoulli([A, B])\n",
    "steel = Isotropic(E=210e3, nu=0.3)\n",
    "circle = Circle(diameter=8)\n",
    "beamAB.section = steel, circle"
   ]
  },
  {
   "attachments": {},
   "cell_type": "markdown",
   "metadata": {},
   "source": [
    "Now we add more internal knots"
   ]
  },
  {
   "cell_type": "code",
   "execution_count": 32,
   "metadata": {},
   "outputs": [],
   "source": [
    "new_knots = np.linspace(0, 1, 11)\n",
    "beamAB.path.knot_insert(new_knots)"
   ]
  },
  {
   "attachments": {},
   "cell_type": "markdown",
   "metadata": {},
   "source": [
    "Once we have all the elements (this case, only one), we add them into the system"
   ]
  },
  {
   "cell_type": "code",
   "execution_count": 33,
   "metadata": {},
   "outputs": [],
   "source": [
    "system = StaticSystem()\n",
    "system.add_element(beamAB)\n",
    "system.add_BC(A, \"Ux\", 0)\n",
    "system.add_BC(A, \"Uy\", 0)\n",
    "system.add_BC(A, \"tz\", 0)\n",
    "system.add_conc_load(B, \"Fx\", 10)"
   ]
  },
  {
   "attachments": {},
   "cell_type": "markdown",
   "metadata": {},
   "source": [
    "And now we run the simulation. As it solves a linear system, it may take time.\n",
    "For this simple example, it's very fast"
   ]
  },
  {
   "cell_type": "code",
   "execution_count": 34,
   "metadata": {},
   "outputs": [],
   "source": [
    "system.run()"
   ]
  },
  {
   "cell_type": "markdown",
   "metadata": {},
   "source": [
    "And then we show the results"
   ]
  },
  {
   "cell_type": "code",
   "execution_count": 35,
   "metadata": {},
   "outputs": [
    {
     "data": {
      "image/png": "[encoded data removed]",
      "text/plain": [
       "<Figure size 432x288 with 1 Axes>"
      ]
     },
     "metadata": {
      "needs_background": "light"
     },
     "output_type": "display_data"
    }
   ],
   "source": [
    "shower = ShowerStaticSystem(system)\n",
    "shower.plot2D(\"xy\", deformed=False)\n",
    "shower.plot2D(\"xy\", deformed=True)"
   ]
  },
  {
   "attachments": {},
   "cell_type": "markdown",
   "metadata": {},
   "source": [
    "We cannot see the difference because it's "
   ]
  },
  {
   "cell_type": "code",
   "execution_count": 36,
   "metadata": {},
   "outputs": [
    {
     "data": {
      "text/plain": [
       "<matplotlib.legend.Legend at 0x288703c6e90>"
      ]
     },
     "execution_count": 36,
     "metadata": {},
     "output_type": "execute_result"
    },
    {
     "data": {
      "image/png": "[encoded data removed]",
      "text/plain": [
       "<Figure size 432x288 with 1 Axes>"
      ]
     },
     "metadata": {
      "needs_background": "light"
     },
     "output_type": "display_data"
    }
   ],
   "source": [
    "tsample = np.linspace(0, 1, 129)\n",
    "Fx = beamAB.field(\"FIx\")(tsample)\n",
    "plt.plot(tsample, Fx, label=\"FIx\")\n",
    "plt.legend()"
   ]
  }
 ],
 "metadata": {
  "kernelspec": {
   "display_name": "Python 3",
   "language": "python",
   "name": "python3"
  },
  "language_info": {
   "codemirror_mode": {
    "name": "ipython",
    "version": 3
   },
   "file_extension": ".py",
   "mimetype": "text/x-python",
   "name": "python",
   "nbconvert_exporter": "python",
   "pygments_lexer": "ipython3",
   "version": "3.10.5"
  },
  "orig_nbformat": 4,
  "vscode": {
   "interpreter": {
    "hash": "9bd63d4d0e53dd854605697514204d0a3a6bfb81f118d4d4374019a86f3401eb"
   }
  }
 },
 "nbformat": 4,
 "nbformat_minor": 2
}
