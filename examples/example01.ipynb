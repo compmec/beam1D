{
 "cells": [
  {
   "cell_type": "code",
   "execution_count": null,
   "metadata": {},
   "outputs": [],
   "source": [
    "from compmec.strct.beam import EulerBernoulli\n",
    "from compmec.strct.section import Circle\n",
    "from compmec.strct.system import StaticSystem\n",
    "\n",
    "A = (0, 0)\n",
    "B = (1000, 0)\n",
    "circle = Circle(R=8/2)\n",
    "beamAB = EulerBernoulli([A, B])\n",
    "\n",
    "system = StaticSystem()\n",
    "system.add_element(beamAB)\n",
    "system.add_BC(A, {\"ux\":0,\n",
    "                  \"uy\":0,\n",
    "                  \"tz\":0})\n",
    "system.add_force(B, {\"Fx\": 10})\n",
    "system.run()"
   ]
  }
 ],
 "metadata": {
  "language_info": {
   "name": "python"
  },
  "orig_nbformat": 4
 },
 "nbformat": 4,
 "nbformat_minor": 2
}
