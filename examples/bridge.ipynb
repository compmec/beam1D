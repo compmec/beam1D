{
 "cells": [
  {
   "cell_type": "markdown",
   "metadata": {},
   "source": [
    "[![Open In Colab](https://colab.research.google.com/assets/colab-badge.svg)](https://colab.research.google.com/github/compmec/beam1D/blob/main/examples/traction.ipynb)"
   ]
  },
  {
   "cell_type": "markdown",
   "metadata": {
    "cell_id": "3e99e27bb28348409adcdc3c8a7dce7d",
    "deepnote_cell_height": 82,
    "deepnote_cell_type": "markdown",
    "tags": []
   },
   "source": [
    "# Bridge"
   ]
  },
  {
   "cell_type": "markdown",
   "metadata": {
    "cell_id": "d59eb20d797040a8b272d591cfcaf1e1",
    "deepnote_cell_height": 82,
    "deepnote_cell_type": "markdown",
    "tags": []
   },
   "source": [
    "# Implementation"
   ]
  },
  {
   "cell_type": "code",
   "execution_count": 1,
   "metadata": {},
   "outputs": [],
   "source": [
    "try:\n",
    "    import compmec.strct\n",
    "except ModuleNotFoundError:\n",
    "    print(\"Module not found. Installing it\")\n",
    "    !pip install compmec-strct\n",
    "    import compmec.strct"
   ]
  },
  {
   "cell_type": "markdown",
   "metadata": {
    "cell_id": "393f55617f764213a71170e57146df83",
    "deepnote_cell_height": 52.399993896484375,
    "deepnote_cell_type": "markdown",
    "tags": []
   },
   "source": [
    "The initial values"
   ]
  },
  {
   "cell_type": "code",
   "execution_count": 2,
   "metadata": {
    "cell_id": "e0485d607b674e3e80c2a86d9b0148f2",
    "deepnote_cell_height": 171,
    "deepnote_cell_type": "code",
    "deepnote_to_be_reexecuted": false,
    "execution_millis": 1224957,
    "execution_start": 1654991781511,
    "source_hash": "31d44756",
    "tags": []
   },
   "outputs": [],
   "source": [
    "import numpy as np\n",
    "np.set_printoptions(precision=3, suppress=True) # To have a clean print\n",
    "L = 1\n",
    "E = 4/np.pi\n",
    "nu = 0.0  # This value doesn't matter to the final answer, but it's needed\n",
    "d = 2\n",
    "P = 0.06"
   ]
  },
  {
   "cell_type": "markdown",
   "metadata": {
    "cell_id": "96f5c9ca180345d49f082985997c3658",
    "deepnote_cell_height": 52.399993896484375,
    "deepnote_cell_type": "markdown",
    "tags": []
   },
   "source": [
    "We create the material we will use"
   ]
  },
  {
   "cell_type": "code",
   "execution_count": 3,
   "metadata": {
    "cell_id": "f98ab0544d8a4c7f8538b8aba0167ec2",
    "deepnote_cell_height": 99,
    "deepnote_cell_type": "code",
    "deepnote_to_be_reexecuted": false,
    "execution_millis": 1224927,
    "execution_start": 1654991781555,
    "source_hash": "18f69289",
    "tags": []
   },
   "outputs": [],
   "source": [
    "from compmec.strct.material import Isotropic\n",
    "steel = Isotropic(E=E, nu=nu)"
   ]
  },
  {
   "cell_type": "markdown",
   "metadata": {
    "cell_id": "12bc9bd38c4244f0923cb9819d4b2a3c",
    "deepnote_cell_height": 52.399993896484375,
    "deepnote_cell_type": "markdown",
    "tags": []
   },
   "source": [
    "We create our section"
   ]
  },
  {
   "cell_type": "code",
   "execution_count": 4,
   "metadata": {
    "cell_id": "88e3e1d2196b44cfbfd6770c3483409b",
    "deepnote_cell_height": 99,
    "deepnote_cell_type": "code",
    "deepnote_to_be_reexecuted": false,
    "execution_millis": 1224949,
    "execution_start": 1654991781555,
    "source_hash": "551c8bf8",
    "tags": []
   },
   "outputs": [],
   "source": [
    "from compmec.strct.profile import Circle\n",
    "circle = Circle(R=d/2, nu=nu)"
   ]
  },
  {
   "cell_type": "markdown",
   "metadata": {
    "cell_id": "d7bc293839f74c7cbe41e81dd6135a05",
    "deepnote_cell_height": 52.399993896484375,
    "deepnote_cell_type": "markdown",
    "tags": []
   },
   "source": [
    "We create the beam"
   ]
  },
  {
   "cell_type": "code",
   "execution_count": 5,
   "metadata": {
    "cell_id": "a2ea5c9d361345979340509dfd171df2",
    "deepnote_cell_height": 171,
    "deepnote_cell_type": "code",
    "deepnote_to_be_reexecuted": false,
    "execution_millis": 2492,
    "execution_start": 1654991781556,
    "source_hash": "860b0a91",
    "tags": []
   },
   "outputs": [],
   "source": [
    "from compmec.strct.beam import EulerBernoulli\n",
    "points = [(0, 0, 0)]\n",
    "parpoints = []\n",
    "nbars = 10\n",
    "h = L * np.sqrt(3)\n",
    "for i in range(nbars):\n",
    "    A = (i*L, 0, 0)\n",
    "    B = ((i+1)*L, 0, 0)\n",
    "    C = ((i+0.5)*L, h, 0)\n",
    "    points.extend([B, C])\n",
    "    parpoints.append([A, B])\n",
    "    parpoints.append([A, C])\n",
    "    parpoints.append([C, B])\n",
    "for i in range(nbars-1):\n",
    "    A = ((i+0.5)*L, h, 0)\n",
    "    B = ((i+1.5)*L, h, 0)\n",
    "    parpoints.append([A, B])\n",
    "points = np.array(points)"
   ]
  },
  {
   "cell_type": "code",
   "execution_count": 6,
   "metadata": {},
   "outputs": [],
   "source": [
    "bars = []\n",
    "for par in parpoints:\n",
    "    bar = EulerBernoulli(par)\n",
    "    bar.material = steel\n",
    "    bar.section = circle\n",
    "    bars.append(bar)"
   ]
  },
  {
   "cell_type": "markdown",
   "metadata": {
    "cell_id": "6ff3869e6e9c4655b1d2fca15adf0a78",
    "deepnote_cell_height": 220.46665954589844,
    "deepnote_cell_type": "markdown",
    "tags": []
   },
   "source": [
    "We add the displacement vector ```U``` and the force ```F```\n",
    "\n",
    "The values of ```U``` are\n",
    "\n",
    "$$\n",
    "U =\n",
    "\\begin{bmatrix}\n",
    "u_{1x} & u_{1y} & u_{1z} & \\theta_{1x} & \\theta_{1y} & \\theta_{1z} \\\\\n",
    "\\vdots & \\vdots & \\vdots & \\vdots & \\vdots & \\vdots \\\\\n",
    "u_{ix} & u_{iy} & u_{iz} & \\theta_{ix} & \\theta_{iy} & \\theta_{2z} \\\\\n",
    "\\vdots & \\vdots & \\vdots & \\vdots & \\vdots & \\vdots \\\\\n",
    "u_{nx} & u_{ny} & u_{nz} & \\theta_{nx} & \\theta_{ny} & \\theta_{nz} \\\\\n",
    "\\end{bmatrix}\n",
    "$$\n",
    "\n"
   ]
  },
  {
   "cell_type": "markdown",
   "metadata": {
    "cell_id": "53690edc0cbd4441b0a20c6e5d4852f1",
    "deepnote_cell_height": 184.06666564941406,
    "deepnote_cell_type": "markdown",
    "tags": []
   },
   "source": [
    "And the values of ```F``` are\n",
    "\n",
    "$$\n",
    "F =\n",
    "\\begin{bmatrix}\n",
    "F_{1x} & F_{1y} & F_{1z} & M_{1x} & M_{1y} & M_{1z} \\\\\n",
    "\\vdots & \\vdots & \\vdots & \\vdots & \\vdots & \\vdots \\\\\n",
    "F_{ix} & F_{iy} & F_{iz} & M_{ix} & M_{iy} & M_{2z} \\\\\n",
    "\\vdots & \\vdots & \\vdots & \\vdots & \\vdots & \\vdots \\\\\n",
    "F_{nx} & F_{ny} & F_{nz} & M_{nx} & M_{ny} & M_{nz} \\\\\n",
    "\\end{bmatrix}\n",
    "$$"
   ]
  },
  {
   "cell_type": "markdown",
   "metadata": {
    "cell_id": "29eeeba59e7f414196a8184d425ba505",
    "deepnote_cell_height": 74.80000305175781,
    "deepnote_cell_type": "markdown",
    "tags": []
   },
   "source": [
    "So, ```U[i]``` means the displacement (and rotation) of the point ```i```, and the ```F[i]``` is the force applied in the node ```i```"
   ]
  },
  {
   "cell_type": "code",
   "execution_count": 7,
   "metadata": {
    "cell_id": "f688657b07a44ebd8ac15c1eabcd188e",
    "deepnote_cell_height": 117,
    "deepnote_cell_type": "code",
    "deepnote_to_be_reexecuted": false,
    "execution_millis": 20,
    "execution_start": 1654991784063,
    "source_hash": "c499b74e",
    "tags": []
   },
   "outputs": [],
   "source": [
    "n = len(points)  # number of points\n",
    "U = np.empty((n, 6), dtype=\"object\")\n",
    "F = np.zeros((n, 6))"
   ]
  },
  {
   "cell_type": "markdown",
   "metadata": {
    "cell_id": "9eb56e8f1ed34f2bb796adde35911425",
    "deepnote_cell_height": 193.86666870117188,
    "deepnote_cell_type": "markdown",
    "tags": []
   },
   "source": [
    "We add the boundary conditions. \n",
    "\n",
    "For that, we only know that at point $A$ (index ```0```), $u_{x}$ is fixed.\n",
    "\n",
    "So, ```U``` is like\n",
    "\n",
    "$$\n",
    "U\n",
    "= \\begin{bmatrix}\n",
    "0 & u_{Ay} & u_{Az} & \\theta_{Ax} & \\theta_{Ay} & \\theta_{Az} \\\\\n",
    "u_{Bx} & u_{By} & u_{Bz} & \\theta_{Bx} & \\theta_{By} & \\theta_{Bz} \\\\ \n",
    "\\end{bmatrix}\n",
    "$$"
   ]
  },
  {
   "cell_type": "code",
   "execution_count": 8,
   "metadata": {
    "cell_id": "61a4da650bf04659978417c54e0a6b6a",
    "deepnote_cell_height": 186,
    "deepnote_cell_type": "code",
    "deepnote_to_be_reexecuted": false,
    "execution_millis": 2,
    "execution_start": 1654991784150,
    "source_hash": "1d845600",
    "tags": []
   },
   "outputs": [],
   "source": [
    "def index_point(p):\n",
    "    distsquare = [np.sum((p-pi)**2) for pi in points]\n",
    "    ind = np.where(distsquare == np.min(distsquare))\n",
    "    return ind[0][0]"
   ]
  },
  {
   "cell_type": "code",
   "execution_count": 9,
   "metadata": {},
   "outputs": [],
   "source": [
    "indA = index_point((0, 0, 0))\n",
    "indB = index_point((nbars*L, 0, 0))\n",
    "U[indA, :] = 0\n",
    "U[indB, :] = 0"
   ]
  },
  {
   "cell_type": "code",
   "execution_count": 10,
   "metadata": {},
   "outputs": [
    {
     "name": "stdout",
     "output_type": "stream",
     "text": [
      "U = \n",
      "[[0 0 0 0 0 0]\n",
      " [None None None None None None]\n",
      " [None None None None None None]\n",
      " [None None None None None None]\n",
      " [None None None None None None]\n",
      " [None None None None None None]\n",
      " [None None None None None None]\n",
      " [None None None None None None]\n",
      " [None None None None None None]\n",
      " [None None None None None None]\n",
      " [None None None None None None]\n",
      " [None None None None None None]\n",
      " [None None None None None None]\n",
      " [None None None None None None]\n",
      " [None None None None None None]\n",
      " [None None None None None None]\n",
      " [None None None None None None]\n",
      " [None None None None None None]\n",
      " [None None None None None None]\n",
      " [0 0 0 0 0 0]\n",
      " [None None None None None None]]\n"
     ]
    }
   ],
   "source": [
    "print(\"U = \")\n",
    "print(U)"
   ]
  },
  {
   "cell_type": "markdown",
   "metadata": {
    "cell_id": "05568d6ce4ad44a48a0c6c93ed670be9",
    "deepnote_cell_height": 193.86666870117188,
    "deepnote_cell_type": "markdown",
    "tags": []
   },
   "source": [
    "We add the force at the point $B$.\n",
    "\n",
    "For that, we know that at point $B$ (index ```1```), $F_{x} = P$.\n",
    "\n",
    "So, ```F``` is like\n",
    "\n",
    "$$\n",
    "F =\n",
    "\\begin{bmatrix}\n",
    "0 & 0 & 0 & 0 & 0 & 0 \\\\\n",
    "P & 0 & 0 & 0 & 0 & 0\n",
    "\\end{bmatrix}\n",
    "$$"
   ]
  },
  {
   "cell_type": "code",
   "execution_count": 11,
   "metadata": {},
   "outputs": [
    {
     "name": "stdout",
     "output_type": "stream",
     "text": [
      "Points = \n",
      "[[ 0.     0.     0.   ]\n",
      " [ 1.     0.     0.   ]\n",
      " [ 0.5    1.732  0.   ]\n",
      " [ 2.     0.     0.   ]\n",
      " [ 1.5    1.732  0.   ]\n",
      " [ 3.     0.     0.   ]\n",
      " [ 2.5    1.732  0.   ]\n",
      " [ 4.     0.     0.   ]\n",
      " [ 3.5    1.732  0.   ]\n",
      " [ 5.     0.     0.   ]\n",
      " [ 4.5    1.732  0.   ]\n",
      " [ 6.     0.     0.   ]\n",
      " [ 5.5    1.732  0.   ]\n",
      " [ 7.     0.     0.   ]\n",
      " [ 6.5    1.732  0.   ]\n",
      " [ 8.     0.     0.   ]\n",
      " [ 7.5    1.732  0.   ]\n",
      " [ 9.     0.     0.   ]\n",
      " [ 8.5    1.732  0.   ]\n",
      " [10.     0.     0.   ]\n",
      " [ 9.5    1.732  0.   ]]\n"
     ]
    }
   ],
   "source": [
    "print(\"Points = \")\n",
    "print(points)"
   ]
  },
  {
   "cell_type": "code",
   "execution_count": 12,
   "metadata": {},
   "outputs": [
    {
     "name": "stdout",
     "output_type": "stream",
     "text": [
      "ind =  2\n",
      "ind =  4\n",
      "ind =  6\n",
      "ind =  8\n",
      "ind =  10\n",
      "ind =  12\n",
      "ind =  14\n",
      "ind =  16\n",
      "ind =  18\n",
      "ind =  20\n"
     ]
    }
   ],
   "source": [
    "for i in range(nbars):\n",
    "    Pb = ((i+0.5)*L, h, 0)\n",
    "    ind = index_point(Pb)\n",
    "    print(\"ind = \", ind)\n",
    "    F[ind, 1] = -P"
   ]
  },
  {
   "cell_type": "code",
   "execution_count": 13,
   "metadata": {
    "cell_id": "0486f0f6707a4a33937ce503a7ec08b3",
    "deepnote_cell_height": 186,
    "deepnote_cell_type": "code",
    "deepnote_to_be_reexecuted": false,
    "execution_millis": 2,
    "execution_start": 1654991784194,
    "source_hash": "762a7303",
    "tags": []
   },
   "outputs": [
    {
     "name": "stdout",
     "output_type": "stream",
     "text": [
      "F = \n",
      "[[ 0.    0.    0.    0.    0.    0.  ]\n",
      " [ 0.    0.    0.    0.    0.    0.  ]\n",
      " [ 0.   -0.06  0.    0.    0.    0.  ]\n",
      " [ 0.    0.    0.    0.    0.    0.  ]\n",
      " [ 0.   -0.06  0.    0.    0.    0.  ]\n",
      " [ 0.    0.    0.    0.    0.    0.  ]\n",
      " [ 0.   -0.06  0.    0.    0.    0.  ]\n",
      " [ 0.    0.    0.    0.    0.    0.  ]\n",
      " [ 0.   -0.06  0.    0.    0.    0.  ]\n",
      " [ 0.    0.    0.    0.    0.    0.  ]\n",
      " [ 0.   -0.06  0.    0.    0.    0.  ]\n",
      " [ 0.    0.    0.    0.    0.    0.  ]\n",
      " [ 0.   -0.06  0.    0.    0.    0.  ]\n",
      " [ 0.    0.    0.    0.    0.    0.  ]\n",
      " [ 0.   -0.06  0.    0.    0.    0.  ]\n",
      " [ 0.    0.    0.    0.    0.    0.  ]\n",
      " [ 0.   -0.06  0.    0.    0.    0.  ]\n",
      " [ 0.    0.    0.    0.    0.    0.  ]\n",
      " [ 0.   -0.06  0.    0.    0.    0.  ]\n",
      " [ 0.    0.    0.    0.    0.    0.  ]\n",
      " [ 0.   -0.06  0.    0.    0.    0.  ]]\n"
     ]
    }
   ],
   "source": [
    "print(\"F = \")\n",
    "print(F)"
   ]
  },
  {
   "cell_type": "code",
   "execution_count": 14,
   "metadata": {
    "cell_id": "f412c1eb2b814da5919414917c5ba734",
    "deepnote_cell_height": 378,
    "deepnote_cell_type": "code",
    "deepnote_to_be_reexecuted": false,
    "execution_millis": 34,
    "execution_start": 1654991784239,
    "source_hash": "6e32f252",
    "tags": []
   },
   "outputs": [
    {
     "name": "stdout",
     "output_type": "stream",
     "text": [
      "Kexp = \n",
      "[[ 6.061  0.045  0.    ...  0.     0.     0.   ]\n",
      " [ 0.045 14.206  0.    ...  0.     0.     0.   ]\n",
      " [ 0.     0.    14.048 ...  0.     0.     0.   ]\n",
      " ...\n",
      " [ 0.     0.     0.    ...  5.182  0.     0.   ]\n",
      " [ 0.     0.     0.    ...  0.     5.365  0.   ]\n",
      " [ 0.     0.     0.    ...  0.     0.     8.438]]\n"
     ]
    }
   ],
   "source": [
    "Kexp = np.zeros((n, 6, n, 6), dtype=\"float64\")\n",
    "for w, bar in enumerate(bars):\n",
    "    K = bar.stiffness_matrix()\n",
    "    ind0 = index_point(bar._p0)\n",
    "    ind1 = index_point(bar._p1)\n",
    "    Kexp[ind0, :, ind0, :] += K[0, :, 0, :]\n",
    "    Kexp[ind0, :, ind1, :] += K[0, :, 1, :]\n",
    "    Kexp[ind1, :, ind0, :] += K[1, :, 0, :]\n",
    "    Kexp[ind1, :, ind1, :] += K[1, :, 1, :]\n",
    "print(\"Kexp = \")\n",
    "print(Kexp.reshape((6*n, 6*n)))"
   ]
  },
  {
   "cell_type": "markdown",
   "metadata": {
    "cell_id": "39d067f5e69045efa162486913d198a9",
    "deepnote_cell_height": 52.399993896484375,
    "deepnote_cell_type": "markdown",
    "tags": []
   },
   "source": [
    "Now we solve:"
   ]
  },
  {
   "cell_type": "code",
   "execution_count": 15,
   "metadata": {
    "cell_id": "1d6c0ddd74f143f3a2fcccae6423ea48",
    "deepnote_cell_height": 336,
    "deepnote_cell_type": "code",
    "deepnote_to_be_reexecuted": false,
    "execution_millis": 648,
    "execution_start": 1654991784283,
    "source_hash": "30e06377",
    "tags": []
   },
   "outputs": [
    {
     "name": "stdout",
     "output_type": "stream",
     "text": [
      "U = \n",
      "[[ 0.     0.     0.     0.     0.     0.   ]\n",
      " [-0.036 -0.07   0.     0.     0.    -0.1  ]\n",
      " [ 0.107 -0.049  0.     0.     0.    -0.09 ]\n",
      " [-0.049 -0.183  0.     0.     0.    -0.103]\n",
      " [ 0.11  -0.145  0.     0.     0.    -0.095]\n",
      " [-0.043 -0.28   0.     0.     0.    -0.079]\n",
      " [ 0.094 -0.244  0.     0.     0.    -0.088]\n",
      " [-0.024 -0.344  0.     0.     0.    -0.043]\n",
      " [ 0.063 -0.324  0.     0.     0.    -0.061]\n",
      " [ 0.    -0.367  0.     0.     0.     0.   ]\n",
      " [ 0.022 -0.368  0.     0.     0.    -0.022]\n",
      " [ 0.024 -0.344  0.     0.     0.     0.043]\n",
      " [-0.022 -0.368  0.     0.     0.     0.022]\n",
      " [ 0.043 -0.28   0.     0.     0.     0.079]\n",
      " [-0.063 -0.324  0.     0.     0.     0.061]\n",
      " [ 0.049 -0.183  0.     0.     0.     0.103]\n",
      " [-0.094 -0.244  0.     0.     0.     0.088]\n",
      " [ 0.036 -0.07   0.     0.     0.     0.1  ]\n",
      " [-0.11  -0.145  0.     0.     0.     0.095]\n",
      " [ 0.     0.     0.     0.     0.     0.   ]\n",
      " [-0.107 -0.049  0.     0.     0.     0.09 ]]\n",
      "F = \n",
      "[[ 0.086  0.3    0.     0.     0.     0.336]\n",
      " [ 0.     0.     0.     0.     0.     0.   ]\n",
      " [ 0.    -0.06   0.     0.     0.     0.   ]\n",
      " [ 0.     0.     0.     0.     0.     0.   ]\n",
      " [ 0.    -0.06   0.     0.     0.     0.   ]\n",
      " [ 0.     0.     0.     0.     0.     0.   ]\n",
      " [ 0.    -0.06   0.     0.     0.     0.   ]\n",
      " [ 0.     0.     0.     0.     0.     0.   ]\n",
      " [ 0.    -0.06   0.     0.     0.     0.   ]\n",
      " [ 0.     0.     0.     0.     0.     0.   ]\n",
      " [ 0.    -0.06   0.     0.     0.     0.   ]\n",
      " [ 0.     0.     0.     0.     0.     0.   ]\n",
      " [ 0.    -0.06   0.     0.     0.     0.   ]\n",
      " [ 0.     0.     0.     0.     0.     0.   ]\n",
      " [ 0.    -0.06   0.     0.     0.     0.   ]\n",
      " [ 0.     0.     0.     0.     0.     0.   ]\n",
      " [ 0.    -0.06   0.     0.     0.     0.   ]\n",
      " [ 0.     0.     0.     0.     0.     0.   ]\n",
      " [ 0.    -0.06   0.     0.     0.     0.   ]\n",
      " [-0.086  0.3    0.     0.     0.    -0.336]\n",
      " [ 0.    -0.06   0.     0.     0.     0.   ]]\n"
     ]
    }
   ],
   "source": [
    "from compmec.strct.solver import solve\n",
    "U, F = solve(Kexp, F, U)\n",
    "print(\"U = \")\n",
    "print(U)\n",
    "print(\"F = \")\n",
    "print(F)"
   ]
  },
  {
   "cell_type": "markdown",
   "metadata": {
    "cell_id": "c8e98a06e5184ea59e14755a92c4a7b7",
    "deepnote_cell_height": 220,
    "deepnote_cell_type": "markdown",
    "tags": []
   },
   "source": [
    "The expected value of the equation \n",
    "\n",
    "$$\n",
    "u(x) = \\dfrac{4PL}{\\pi E d^2} \\cdot \\dfrac{x}{L}\n",
    "$$\n",
    "\n",
    "at $x = L$ and with the given data, gives us \n",
    "\n",
    "$$\n",
    "u(L) = \\dfrac{4 \\cdot 4 \\cdot 1}{\\pi \\cdot \\dfrac{4}{\\pi} \\cdot \\left(2\\right)^2} \\cdot \\dfrac{1}{1} = 1\n",
    "$$"
   ]
  },
  {
   "cell_type": "code",
   "execution_count": 16,
   "metadata": {},
   "outputs": [
    {
     "data": {
      "image/png": "[encoded data removed]",
      "text/plain": [
       "<Figure size 432x288 with 1 Axes>"
      ]
     },
     "metadata": {
      "needs_background": "light"
     },
     "output_type": "display_data"
    }
   ],
   "source": [
    "from matplotlib import pyplot as plt\n",
    "newpoints = np.copy(points)\n",
    "newpoints += U[:, :3]\n",
    "\n",
    "for A, B in parpoints:\n",
    "    plt.plot((A[0], B[0]), (A[1], B[1]), color=\"b\")\n",
    "    indA = index_point(A)\n",
    "    indB = index_point(B)\n",
    "    nA = np.copy(A) + U[indA, :3]\n",
    "    nB = np.copy(B) + U[indB, :3]\n",
    "    plt.plot((nA[0], nB[0]), (nA[1], nB[1]), color=\"r\")\n",
    "\n",
    "plt.xlim(0, L*nbars)\n",
    "plt.ylim(-L*nbars/2, L*nbars/2)\n",
    "plt.show()"
   ]
  }
 ],
 "metadata": {
  "deepnote": {},
  "deepnote_execution_queue": [],
  "deepnote_notebook_id": "fa953d4a-1209-459e-adb2-3046d187de73",
  "kernelspec": {
   "display_name": "Python 3.10.5 64-bit (windows store)",
   "language": "python",
   "name": "python3"
  },
  "language_info": {
   "codemirror_mode": {
    "name": "ipython",
    "version": 3
   },
   "file_extension": ".py",
   "mimetype": "text/x-python",
   "name": "python",
   "nbconvert_exporter": "python",
   "pygments_lexer": "ipython3",
   "version": "3.10.5"
  },
  "orig_nbformat": 2,
  "vscode": {
   "interpreter": {
    "hash": "410621c85258efa0ea47ad915638abc1a4a3304f33944a818dfb0fc7cd918640"
   }
  }
 },
 "nbformat": 4,
 "nbformat_minor": 2
}
