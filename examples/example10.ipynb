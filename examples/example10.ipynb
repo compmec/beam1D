{
 "cells": [
  {
   "attachments": {},
   "cell_type": "markdown",
   "metadata": {},
   "source": [
    "## Online available\n",
    "\n",
    "[![Open In Colab](https://colab.research.google.com/assets/colab-badge.svg)](https://colab.research.google.com/github/compmec/strct/blob/main/examples/example10.ipynb)\n",
    "\n",
    "At [Github/compmec/strct/examples/example10.ipynb](https://github.com/compmec/strct/blob/main/examples/example10.ipynb)"
   ]
  },
  {
   "cell_type": "markdown",
   "metadata": {},
   "source": [
    "# Example 10\n",
    "\n",
    "![](https://raw.githubusercontent.com/compmec/strct/examples/examples/img/example10_prob.png)\n"
   ]
  },
  {
   "cell_type": "markdown",
   "metadata": {},
   "source": [
    "First we import what we will use."
   ]
  },
  {
   "cell_type": "code",
   "execution_count": 1,
   "metadata": {},
   "outputs": [],
   "source": [
    "import os\n",
    "os.system(\"pip install compmec-nurbs\")\n",
    "os.system(\"pip install compmec-strct\")\n",
    "from compmec.strct.element import EulerBernoulli\n",
    "from compmec.strct.profile import Circle\n",
    "from compmec.strct.material import Isotropic\n",
    "from compmec.strct.system import StaticSystem\n",
    "from compmec.strct.shower import ShowerStaticSystem"
   ]
  },
  {
   "cell_type": "markdown",
   "metadata": {},
   "source": [
    "Then we create the elements we will use "
   ]
  },
  {
   "cell_type": "code",
   "execution_count": 2,
   "metadata": {},
   "outputs": [],
   "source": [
    "A = (300, 0)\n",
    "B = (0, 500)\n",
    "C = (300, 500)\n",
    "beamAC = EulerBernoulli([A, C])\n",
    "beamBC = EulerBernoulli([B, C])\n",
    "circle = Circle(R=8/2, nu=0.3)\n",
    "steel = Isotropic(E=210e+3, nu=0.3)\n",
    "for beam in [beamAC, beamBC]:\n",
    "    beam.section = circle\n",
    "    beam.material = steel"
   ]
  },
  {
   "cell_type": "markdown",
   "metadata": {},
   "source": [
    "Once we have all the elements, we add them into the system"
   ]
  },
  {
   "cell_type": "code",
   "execution_count": 1,
   "metadata": {},
   "outputs": [
    {
     "ename": "NameError",
     "evalue": "name 'StaticSystem' is not defined",
     "output_type": "error",
     "traceback": [
      "\u001b[1;31m---------------------------------------------------------------------------\u001b[0m",
      "\u001b[1;31mNameError\u001b[0m                                 Traceback (most recent call last)",
      "\u001b[1;32m~\\AppData\\Local\\Temp\\ipykernel_9556\\1261319350.py\u001b[0m in \u001b[0;36m<module>\u001b[1;34m\u001b[0m\n\u001b[1;32m----> 1\u001b[1;33m \u001b[0msystem\u001b[0m \u001b[1;33m=\u001b[0m \u001b[0mStaticSystem\u001b[0m\u001b[1;33m(\u001b[0m\u001b[1;33m)\u001b[0m\u001b[1;33m\u001b[0m\u001b[1;33m\u001b[0m\u001b[0m\n\u001b[0m\u001b[0;32m      2\u001b[0m \u001b[0msystem\u001b[0m\u001b[1;33m.\u001b[0m\u001b[0madd_element\u001b[0m\u001b[1;33m(\u001b[0m\u001b[0mbeamAB\u001b[0m\u001b[1;33m)\u001b[0m\u001b[1;33m\u001b[0m\u001b[1;33m\u001b[0m\u001b[0m\n\u001b[0;32m      3\u001b[0m system.add_BC(A, {\"ux\":0,\n\u001b[0;32m      4\u001b[0m                   \u001b[1;34m\"uy\"\u001b[0m\u001b[1;33m:\u001b[0m\u001b[1;36m0\u001b[0m\u001b[1;33m,\u001b[0m\u001b[1;33m\u001b[0m\u001b[1;33m\u001b[0m\u001b[0m\n\u001b[0;32m      5\u001b[0m                   \"tz\":0})\n",
      "\u001b[1;31mNameError\u001b[0m: name 'StaticSystem' is not defined"
     ]
    }
   ],
   "source": [
    "system = StaticSystem()\n",
    "for beam in [beamAC, beamBC]:\n",
    "    system.add_element(beam)\n",
    "system.add_BC(A, \"Ux\", 0)\n",
    "system.add_BC(A, \"Uy\", 0)\n",
    "system.add_BC(A, \"tx\", 0)\n",
    "system.add_BC(B, \"Ux\", 0)\n",
    "system.add_BC(B, \"Uy\", 0)\n",
    "system.add_BC(B, \"tz\", 0)\n",
    "system.add_conc_load(C, \"Fy\", 150)"
   ]
  },
  {
   "cell_type": "markdown",
   "metadata": {},
   "source": [
    "And now we run the simulation. As it solves a linear system, it may take time.\n",
    "But for this simple example, it's very fast"
   ]
  },
  {
   "cell_type": "code",
   "execution_count": 4,
   "metadata": {},
   "outputs": [],
   "source": [
    "system.run()"
   ]
  },
  {
   "cell_type": "markdown",
   "metadata": {},
   "source": [
    "And then we show the results"
   ]
  },
  {
   "cell_type": "code",
   "execution_count": null,
   "metadata": {},
   "outputs": [],
   "source": [
    "shower = ShowerStaticSystem(system)\n",
    "shower.plot2D(\"xy\", deformed=True)"
   ]
  },
  {
   "cell_type": "code",
   "execution_count": null,
   "metadata": {},
   "outputs": [],
   "source": [
    "tsample = np.linspace(0, 1, 129)\n",
    "Fx = beamAB.field(\"FIx\")(tsample)\n",
    "plt.plot(tsample, Fx, label=\"FIx\")\n",
    "Fy = beamAB.field(\"FIy\")(tsample)\n",
    "plt.plot(tsample, Fy, label=\"FIy\")\n",
    "Fz = beamAB.field(\"FIz\")(tsample)\n",
    "plt.plot(tsample, Fz, label=\"FIz\")\n",
    "plt.legend()"
   ]
  }
 ],
 "metadata": {
  "kernelspec": {
   "display_name": "Python 3",
   "language": "python",
   "name": "python3"
  },
  "language_info": {
   "codemirror_mode": {
    "name": "ipython",
    "version": 3
   },
   "file_extension": ".py",
   "mimetype": "text/x-python",
   "name": "python",
   "nbconvert_exporter": "python",
   "pygments_lexer": "ipython3",
   "version": "3.10.5 (tags/v3.10.5:f377153, Jun  6 2022, 16:14:13) [MSC v.1929 64 bit (AMD64)]"
  },
  "orig_nbformat": 4,
  "vscode": {
   "interpreter": {
    "hash": "bc7696eeafa34b5eae99a8ff85011d0682d74fe0e2a2436bba17f9270709e3f6"
   }
  }
 },
 "nbformat": 4,
 "nbformat_minor": 2
}
