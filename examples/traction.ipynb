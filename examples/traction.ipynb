{
 "cells": [
  {
   "cell_type": "markdown",
   "metadata": {},
   "source": [
    "[![Open In Colab](https://colab.research.google.com/assets/colab-badge.svg)](https://colab.research.google.com/github/compmec/beam1D/blob/main/examples/traction.ipynb)"
   ]
  },
  {
   "cell_type": "markdown",
   "metadata": {
    "cell_id": "3e99e27bb28348409adcdc3c8a7dce7d",
    "deepnote_cell_height": 82,
    "deepnote_cell_type": "markdown",
    "tags": []
   },
   "source": [
    "# Bar traction"
   ]
  },
  {
   "cell_type": "markdown",
   "metadata": {
    "cell_id": "e59e57f1c3fa471d940d8c6f89846185",
    "deepnote_cell_height": 379.3999938964844,
    "deepnote_cell_type": "markdown",
    "owner_user_id": "4ceab1a1-ba24-4c76-8c5a-89e7333425d4",
    "tags": []
   },
   "source": [
    "Let's suppose that we have a bar with\n",
    "\n",
    "* Lenght $L$\n",
    "* Elasticity $E$\n",
    "* Poisson $\\nu$\n",
    "* Diameter $d$\n",
    "\n",
    "And it's tracted with a force $P$, as shown in the figure"
   ]
  },
  {
   "cell_type": "markdown",
   "metadata": {
    "cell_id": "f22a109a84a0483f8a00a8204a34e779",
    "deepnote_cell_height": 175.60000610351562,
    "deepnote_cell_type": "markdown",
    "tags": []
   },
   "source": [
    "With the Euler-Bernoulli Beam, we will have\n",
    "\n",
    "$$\n",
    "N(x) = P\n",
    "$$\n",
    "$$\n",
    "V(x) = 0\n",
    "$$\n",
    "$$\n",
    "M(x) = 0\n",
    "$$"
   ]
  },
  {
   "cell_type": "markdown",
   "metadata": {
    "cell_id": "89d6aef4187e4bc6805bb43681eabc9a",
    "deepnote_cell_height": 115.06666564941406,
    "deepnote_cell_type": "markdown",
    "tags": []
   },
   "source": [
    "Our solution is only\n",
    "\n",
    "$$\n",
    "u(x) = \\dfrac{P}{EA} \\cdot \\dfrac{x}{L} = \\dfrac{4P}{\\pi E d^2} \\cdot \\dfrac{x}{L}\n",
    "$$"
   ]
  },
  {
   "cell_type": "markdown",
   "metadata": {
    "cell_id": "91cc63027d3048a18560df0accf31887",
    "deepnote_cell_height": 52.399993896484375,
    "deepnote_cell_type": "markdown",
    "tags": []
   },
   "source": [
    "Now, let's go to the code"
   ]
  },
  {
   "cell_type": "markdown",
   "metadata": {
    "cell_id": "d59eb20d797040a8b272d591cfcaf1e1",
    "deepnote_cell_height": 82,
    "deepnote_cell_type": "markdown",
    "tags": []
   },
   "source": [
    "# Implementation"
   ]
  },
  {
   "cell_type": "markdown",
   "metadata": {
    "cell_id": "393f55617f764213a71170e57146df83",
    "deepnote_cell_height": 52.399993896484375,
    "deepnote_cell_type": "markdown",
    "tags": []
   },
   "source": [
    "The initial values"
   ]
  },
  {
   "cell_type": "code",
   "execution_count": 1,
   "metadata": {
    "cell_id": "e0485d607b674e3e80c2a86d9b0148f2",
    "deepnote_cell_height": 171,
    "deepnote_cell_type": "code",
    "deepnote_to_be_reexecuted": false,
    "execution_millis": 1224957,
    "execution_start": 1654991781511,
    "source_hash": "31d44756",
    "tags": []
   },
   "outputs": [],
   "source": [
    "import numpy as np\n",
    "np.set_printoptions(precision=3, suppress=True) # To have a clean print\n",
    "L = 1\n",
    "E = 4/np.pi\n",
    "nu = 0.0  # This value doesn't matter to the final answer, but it's needed\n",
    "d = 2\n",
    "P = 4"
   ]
  },
  {
   "cell_type": "markdown",
   "metadata": {
    "cell_id": "96f5c9ca180345d49f082985997c3658",
    "deepnote_cell_height": 52.399993896484375,
    "deepnote_cell_type": "markdown",
    "tags": []
   },
   "source": [
    "We create the material we will use"
   ]
  },
  {
   "cell_type": "code",
   "execution_count": 2,
   "metadata": {
    "cell_id": "f98ab0544d8a4c7f8538b8aba0167ec2",
    "deepnote_cell_height": 99,
    "deepnote_cell_type": "code",
    "deepnote_to_be_reexecuted": false,
    "execution_millis": 1224927,
    "execution_start": 1654991781555,
    "source_hash": "18f69289",
    "tags": []
   },
   "outputs": [],
   "source": [
    "from material import Isotropic\n",
    "steel = Isotropic(E=E, nu=nu)"
   ]
  },
  {
   "cell_type": "markdown",
   "metadata": {
    "cell_id": "12bc9bd38c4244f0923cb9819d4b2a3c",
    "deepnote_cell_height": 52.399993896484375,
    "deepnote_cell_type": "markdown",
    "tags": []
   },
   "source": [
    "We create our section"
   ]
  },
  {
   "cell_type": "code",
   "execution_count": 3,
   "metadata": {
    "cell_id": "88e3e1d2196b44cfbfd6770c3483409b",
    "deepnote_cell_height": 99,
    "deepnote_cell_type": "code",
    "deepnote_to_be_reexecuted": false,
    "execution_millis": 1224949,
    "execution_start": 1654991781555,
    "source_hash": "551c8bf8",
    "tags": []
   },
   "outputs": [],
   "source": [
    "from section import Circle\n",
    "circle = Circle(R=d/2, nu=nu)"
   ]
  },
  {
   "cell_type": "markdown",
   "metadata": {
    "cell_id": "d7bc293839f74c7cbe41e81dd6135a05",
    "deepnote_cell_height": 52.399993896484375,
    "deepnote_cell_type": "markdown",
    "tags": []
   },
   "source": [
    "We create the beam"
   ]
  },
  {
   "cell_type": "code",
   "execution_count": 4,
   "metadata": {
    "cell_id": "a2ea5c9d361345979340509dfd171df2",
    "deepnote_cell_height": 171,
    "deepnote_cell_type": "code",
    "deepnote_to_be_reexecuted": false,
    "execution_millis": 2492,
    "execution_start": 1654991781556,
    "source_hash": "860b0a91",
    "tags": []
   },
   "outputs": [],
   "source": [
    "from beam import EulerBernoulli\n",
    "A = (0, 0, 0)\n",
    "B = (L, 0, 0)\n",
    "bar = EulerBernoulli(A, B)\n",
    "bar.material = steel\n",
    "bar.section = circle"
   ]
  },
  {
   "cell_type": "markdown",
   "metadata": {
    "cell_id": "6ff3869e6e9c4655b1d2fca15adf0a78",
    "deepnote_cell_height": 220.46665954589844,
    "deepnote_cell_type": "markdown",
    "tags": []
   },
   "source": [
    "We add the displacement vector ```U``` and the force ```F```\n",
    "\n",
    "The values of ```U``` are\n",
    "\n",
    "$$\n",
    "\\bold{U} =\n",
    "\\begin{bmatrix}\n",
    "u_{1x} & u_{1y} & u_{1z} & \\theta_{1x} & \\theta_{1y} & \\theta_{1z} \\\\\n",
    "\\vdots & \\vdots & \\vdots & \\vdots & \\vdots & \\vdots \\\\\n",
    "u_{ix} & u_{iy} & u_{iz} & \\theta_{ix} & \\theta_{iy} & \\theta_{2z} \\\\\n",
    "\\vdots & \\vdots & \\vdots & \\vdots & \\vdots & \\vdots \\\\\n",
    "u_{nx} & u_{ny} & u_{nz} & \\theta_{nx} & \\theta_{ny} & \\theta_{nz} \\\\\n",
    "\\end{bmatrix}\n",
    "$$\n",
    "\n"
   ]
  },
  {
   "cell_type": "markdown",
   "metadata": {
    "cell_id": "53690edc0cbd4441b0a20c6e5d4852f1",
    "deepnote_cell_height": 184.06666564941406,
    "deepnote_cell_type": "markdown",
    "tags": []
   },
   "source": [
    "And the values of ```F``` are\n",
    "\n",
    "$$\n",
    "\\bold{F} =\n",
    "\\begin{bmatrix}\n",
    "F_{1x} & F_{1y} & F_{1z} & M_{1x} & M_{1y} & M_{1z} \\\\\n",
    "\\vdots & \\vdots & \\vdots & \\vdots & \\vdots & \\vdots \\\\\n",
    "F_{ix} & F_{iy} & F_{iz} & M_{ix} & M_{iy} & M_{2z} \\\\\n",
    "\\vdots & \\vdots & \\vdots & \\vdots & \\vdots & \\vdots \\\\\n",
    "F_{nx} & F_{ny} & F_{nz} & M_{nx} & M_{ny} & M_{nz} \\\\\n",
    "\\end{bmatrix}\n",
    "$$"
   ]
  },
  {
   "cell_type": "markdown",
   "metadata": {
    "cell_id": "29eeeba59e7f414196a8184d425ba505",
    "deepnote_cell_height": 74.80000305175781,
    "deepnote_cell_type": "markdown",
    "tags": []
   },
   "source": [
    "So, ```U[i]``` means the displacement (and rotation) of the point ```i```, and the ```F[i]``` is the force applied in the node ```i```"
   ]
  },
  {
   "cell_type": "code",
   "execution_count": 5,
   "metadata": {
    "cell_id": "f688657b07a44ebd8ac15c1eabcd188e",
    "deepnote_cell_height": 117,
    "deepnote_cell_type": "code",
    "deepnote_to_be_reexecuted": false,
    "execution_millis": 20,
    "execution_start": 1654991784063,
    "source_hash": "c499b74e",
    "tags": []
   },
   "outputs": [],
   "source": [
    "n = 2  # number of points\n",
    "U = np.empty((n, 6), dtype=\"object\")\n",
    "F = np.zeros((n, 6))"
   ]
  },
  {
   "cell_type": "markdown",
   "metadata": {
    "cell_id": "9eb56e8f1ed34f2bb796adde35911425",
    "deepnote_cell_height": 193.86666870117188,
    "deepnote_cell_type": "markdown",
    "tags": []
   },
   "source": [
    "We add the boundary conditions. \n",
    "\n",
    "For that, we only know that at point $A$ (index ```0```), $u_{x}$ is fixed.\n",
    "\n",
    "So, ```U``` is like\n",
    "\n",
    "$$\n",
    "\\bold{U}\n",
    "= \\begin{bmatrix}\n",
    "0 & u_{Ay} & u_{Az} & \\theta_{Ax} & \\theta_{Ay} & \\theta_{Az} \\\\\n",
    "u_{Bx} & u_{By} & u_{Bz} & \\theta_{Bx} & \\theta_{By} & \\theta_{Bz} \\\\ \n",
    "\\end{bmatrix}\n",
    "$$"
   ]
  },
  {
   "cell_type": "code",
   "execution_count": 6,
   "metadata": {
    "cell_id": "61a4da650bf04659978417c54e0a6b6a",
    "deepnote_cell_height": 186,
    "deepnote_cell_type": "code",
    "deepnote_to_be_reexecuted": false,
    "execution_millis": 2,
    "execution_start": 1654991784150,
    "source_hash": "1d845600",
    "tags": []
   },
   "outputs": [
    {
     "name": "stdout",
     "output_type": "stream",
     "text": [
      "U = \n",
      "[[0 None None None None None]\n",
      " [None None None None None None]]\n"
     ]
    }
   ],
   "source": [
    "U[0, 0] = 0  # At point A, ux = 0\n",
    "print(\"U = \")\n",
    "print(U)"
   ]
  },
  {
   "cell_type": "markdown",
   "metadata": {
    "cell_id": "05568d6ce4ad44a48a0c6c93ed670be9",
    "deepnote_cell_height": 193.86666870117188,
    "deepnote_cell_type": "markdown",
    "tags": []
   },
   "source": [
    "We add the force at the point $B$.\n",
    "\n",
    "For that, we know that at point $B$ (index ```1```), $F_{x} = P$.\n",
    "\n",
    "So, ```F``` is like\n",
    "\n",
    "$$\n",
    "\\bold{F} =\n",
    "\\begin{bmatrix}\n",
    "0 & 0 & 0 & 0 & 0 & 0 \\\\\n",
    "P & 0 & 0 & 0 & 0 & 0\n",
    "\\end{bmatrix}\n",
    "$$"
   ]
  },
  {
   "cell_type": "code",
   "execution_count": 7,
   "metadata": {
    "cell_id": "0486f0f6707a4a33937ce503a7ec08b3",
    "deepnote_cell_height": 186,
    "deepnote_cell_type": "code",
    "deepnote_to_be_reexecuted": false,
    "execution_millis": 2,
    "execution_start": 1654991784194,
    "source_hash": "762a7303",
    "tags": []
   },
   "outputs": [
    {
     "name": "stdout",
     "output_type": "stream",
     "text": [
      "F = \n",
      "[[0. 0. 0. 0. 0. 0.]\n",
      " [4. 0. 0. 0. 0. 0.]]\n"
     ]
    }
   ],
   "source": [
    "F[1, 0] = P  # At point B, Fx = P\n",
    "print(\"F = \")\n",
    "print(F)"
   ]
  },
  {
   "cell_type": "markdown",
   "metadata": {
    "cell_id": "e47b4452811a44b68591bc6adbf191e9",
    "deepnote_cell_height": 589.2333374023438,
    "deepnote_cell_type": "markdown",
    "tags": []
   },
   "source": [
    "We get the stiffness matrix $K$.\n",
    "\n",
    "The matrix is given by\n",
    "\n",
    "$$\n",
    "\\bold{K}_{11} = \n",
    "\\begin{bmatrix}\n",
    "\\frac{EA_x}{L} & 0 & 0 & 0 & 0 & 0 \\\\\n",
    "0 & \\frac{12EI_{z}}{L^3} & 0 & 0 & 0 & \\frac{6EI_{z}}{L^2} \\\\\n",
    "0 & 0 & \\frac{12EI_{y}}{L^3} &  0 & \\frac{-6EI_{y}}{L^2} \\\\\n",
    "0 & 0 & 0 & \\frac{GJ}{L} & 0 & 0 \\\\\n",
    "0 & 0 & \\frac{-6EI_{y}}{L^2} & 0 & \\frac{4EI_{y}}{L} & 0 \\\\\n",
    "0 & \\frac{6EI_{z}}{L^2}& 0 & 0 & 0 & \\frac{4EI_{z}}{L} \n",
    "\\end{bmatrix}\n",
    "$$\n",
    "\n",
    "$$\n",
    "\\bold{K}_{12} = \n",
    "\\begin{bmatrix}\n",
    "\\frac{-EA_x}{L} & 0 & 0 & 0 & 0 & 0 \\\\\n",
    "0 & \\frac{-12EI_{z}}{L^3} & 0 & 0 & 0 & \\frac{6EI_{z}}{L^2} \\\\\n",
    "0 & 0 & \\frac{-12EI_{y}}{L^3} &  0 & \\frac{-6EI_{y}}{L^2} \\\\\n",
    "0 & 0 & 0 & \\frac{-GJ}{L} & 0 & 0 \\\\\n",
    "0 & 0 & \\frac{6EI_{y}}{L^2} & 0 & \\frac{2EI_{y}}{L} & 0 \\\\\n",
    "0 & \\frac{-6EI_{z}}{L^2}& 0 & 0 & 0 & \\frac{2EI_{z}}{L} \n",
    "\\end{bmatrix}\n",
    "$$\n",
    "\n",
    "$$\n",
    "\\bold{K}_{22} = \n",
    "\\begin{bmatrix}\n",
    "\\frac{EA_x}{L} & 0 & 0 & 0 & 0 & 0 \\\\\n",
    "0 & \\frac{12EI_{z}}{L^3} & 0 & 0 & 0 & \\frac{-6EI_{z}}{L^2} \\\\\n",
    "0 & 0 & \\frac{12EI_{y}}{L^3} &  0 & \\frac{6EI_{y}}{L^2} \\\\\n",
    "0 & 0 & 0 & \\frac{GJ}{L} & 0 & 0 \\\\\n",
    "0 & 0 & \\frac{6EI_{y}}{L^2} & 0 & \\frac{4EI_{y}}{L} & 0 \\\\\n",
    "0 & \\frac{-6EI_{z}}{L^2}& 0 & 0 & 0 & \\frac{4EI_{z}}{L} \n",
    "\\end{bmatrix}\n",
    "$$\n",
    "\n",
    "$$\n",
    "\\bold{K} = \n",
    "\\begin{bmatrix}\n",
    "\\bold{K}_{11} & \\bold{K}_{12} \\\\\n",
    "\\bold{K}_{12}^T & \\bold{K}_{22}\n",
    "\\end{bmatrix}\n",
    "$$"
   ]
  },
  {
   "cell_type": "markdown",
   "metadata": {
    "cell_id": "97317cc1b68c4ee68c8e2db6936374f8",
    "deepnote_cell_height": 136.8000030517578,
    "deepnote_cell_type": "markdown",
    "tags": []
   },
   "source": [
    "For exemple, with the values of\n",
    "\n",
    "$$\n",
    "L = 1; \\ \\ \\ \\ \\ \\ E = \\dfrac{4}{\\pi}; \\ \\ \\ \\ \\ \\ \\nu = 0 ; \\ \\ \\ \\ \\ \\ d = 2\n",
    "$$\n",
    "\n",
    "We have the matrix\n"
   ]
  },
  {
   "cell_type": "markdown",
   "metadata": {
    "cell_id": "a202eebdb8144ef697c4e489ac33c466",
    "deepnote_cell_height": 302.23333740234375,
    "deepnote_cell_type": "markdown",
    "tags": []
   },
   "source": [
    "$$\n",
    "K = \n",
    "\\begin{bmatrix}\n",
    "4 & & & & & & -4 & & & & & \\\\\n",
    "& 12 & & & & 6 & & -12 &  & & & 6 \\\\\n",
    "& & 12 & & -6 & & & & -12 & & -6 & \\\\\n",
    "& & & 1 & & & & & & -1 & & \\\\\n",
    "& & -6 & & 4 & & & & 6 & & 2 & \\\\\n",
    "& 6 & & & & 4 & & -6 &  & & & 2 \\\\\n",
    "-4 & & & & & & 4 & & & & & \\\\\n",
    "& -12 & & & & -6 & & 12 &  & & & -6 \\\\\n",
    "& & -12 & & 6 & & & & 12 & & 6 & \\\\\n",
    "& & & -1 & & & & & & 1 & & \\\\\n",
    "& & -6 & & 2 & & & & 6 & & 4 & \\\\\n",
    "& 6 & & & & 2 & & -6 &  & & & 4 \\\\\n",
    "\\end{bmatrix}\n",
    "$$"
   ]
  },
  {
   "cell_type": "code",
   "execution_count": 8,
   "metadata": {
    "cell_id": "f412c1eb2b814da5919414917c5ba734",
    "deepnote_cell_height": 378,
    "deepnote_cell_type": "code",
    "deepnote_to_be_reexecuted": false,
    "execution_millis": 34,
    "execution_start": 1654991784239,
    "source_hash": "6e32f252",
    "tags": []
   },
   "outputs": [
    {
     "name": "stdout",
     "output_type": "stream",
     "text": [
      "K = \n",
      "[[  4.   0.   0.   0.   0.   0.  -4.   0.   0.   0.   0.   0.]\n",
      " [  0.  12.   0.   0.   0.   6.   0. -12.   0.   0.   0.   6.]\n",
      " [  0.   0.  12.   0.  -6.   0.   0.   0. -12.   0.  -6.   0.]\n",
      " [  0.   0.   0.   1.   0.   0.   0.   0.   0.  -1.   0.   0.]\n",
      " [  0.   0.  -6.   0.   4.   0.   0.   0.   6.   0.   2.   0.]\n",
      " [  0.   6.   0.   0.   0.   4.   0.  -6.   0.   0.   0.   2.]\n",
      " [ -4.   0.   0.   0.   0.   0.   4.   0.   0.   0.   0.   0.]\n",
      " [  0. -12.   0.   0.   0.  -6.   0.  12.   0.   0.   0.  -6.]\n",
      " [  0.   0. -12.   0.   6.   0.   0.   0.  12.   0.   6.   0.]\n",
      " [  0.   0.   0.  -1.   0.   0.   0.   0.   0.   1.   0.   0.]\n",
      " [  0.   0.  -6.   0.   2.   0.   0.   0.   6.   0.   4.   0.]\n",
      " [  0.   6.   0.   0.   0.   2.   0.  -6.   0.   0.   0.   4.]]\n"
     ]
    }
   ],
   "source": [
    "K = bar.stiffness_matrix()\n",
    "print(\"K = \")\n",
    "print(K.reshape(12, 12))"
   ]
  },
  {
   "cell_type": "markdown",
   "metadata": {
    "cell_id": "39d067f5e69045efa162486913d198a9",
    "deepnote_cell_height": 52.399993896484375,
    "deepnote_cell_type": "markdown",
    "tags": []
   },
   "source": [
    "Now we solve:"
   ]
  },
  {
   "cell_type": "code",
   "execution_count": 9,
   "metadata": {
    "cell_id": "1d6c0ddd74f143f3a2fcccae6423ea48",
    "deepnote_cell_height": 336,
    "deepnote_cell_type": "code",
    "deepnote_to_be_reexecuted": false,
    "execution_millis": 648,
    "execution_start": 1654991784283,
    "source_hash": "30e06377",
    "tags": []
   },
   "outputs": [
    {
     "name": "stdout",
     "output_type": "stream",
     "text": [
      "U = \n",
      "[[ 0.  0. -0. -0. -0.  0.]\n",
      " [ 1. -0.  0. -0. -0. -0.]]\n",
      "F = \n",
      "[[-4.  0.  0.  0.  0.  0.]\n",
      " [ 4.  0.  0.  0.  0.  0.]]\n"
     ]
    }
   ],
   "source": [
    "from solver import solve\n",
    "U, F = solve(K, F, U)\n",
    "print(\"U = \")\n",
    "print(U)\n",
    "print(\"F = \")\n",
    "print(F)"
   ]
  },
  {
   "cell_type": "markdown",
   "metadata": {
    "cell_id": "c8e98a06e5184ea59e14755a92c4a7b7",
    "deepnote_cell_height": 220,
    "deepnote_cell_type": "markdown",
    "tags": []
   },
   "source": [
    "The expected value of the equation \n",
    "\n",
    "$$\n",
    "u(x) = \\dfrac{4P}{\\pi E d^2} \\cdot \\dfrac{x}{L}\n",
    "$$\n",
    "\n",
    "at $x = L$ and with the given data, gives us \n",
    "\n",
    "$$\n",
    "u(L) = \\dfrac{4 \\cdot 4}{\\pi \\cdot \\dfrac{4}{\\pi} \\cdot \\left(2\\right)^2} \\cdot \\dfrac{1}{1} = 1\n",
    "$$"
   ]
  },
  {
   "cell_type": "markdown",
   "metadata": {
    "created_in_deepnote_cell": true,
    "deepnote_cell_type": "markdown",
    "tags": []
   },
   "source": [
    "<a style='text-decoration:none;line-height:16px;display:flex;color:#5B5B62;padding:10px;justify-content:end;' href='https://deepnote.com?utm_source=created-in-deepnote-cell&projectId=302ab669-ec31-4508-87f9-ef972d3ec2c5' target=\"_blank\">\n",
    "<img alt='Created in deepnote.com' style='display:inline;max-height:16px;margin:0px;margin-right:7.5px;' src='data:image/svg+xml;base64,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' > </img>\n",
    "Created in <span style='font-weight:600;margin-left:4px;'>Deepnote</span></a>"
   ]
  }
 ],
 "metadata": {
  "deepnote": {},
  "deepnote_execution_queue": [],
  "deepnote_notebook_id": "fa953d4a-1209-459e-adb2-3046d187de73",
  "kernelspec": {
   "display_name": "Python 3.10.5 64-bit (windows store)",
   "language": "python",
   "name": "python3"
  },
  "language_info": {
   "codemirror_mode": {
    "name": "ipython",
    "version": 3
   },
   "file_extension": ".py",
   "mimetype": "text/x-python",
   "name": "python",
   "nbconvert_exporter": "python",
   "pygments_lexer": "ipython3",
   "version": "3.10.5"
  },
  "orig_nbformat": 2,
  "vscode": {
   "interpreter": {
    "hash": "410621c85258efa0ea47ad915638abc1a4a3304f33944a818dfb0fc7cd918640"
   }
  }
 },
 "nbformat": 4,
 "nbformat_minor": 2
}
