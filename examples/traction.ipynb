{
 "cells": [
  {
   "cell_type": "markdown",
   "source": "# Bar traction",
   "metadata": {
    "cell_id": "3e99e27bb28348409adcdc3c8a7dce7d",
    "tags": [],
    "deepnote_cell_type": "markdown",
    "deepnote_cell_height": 82
   }
  },
  {
   "cell_type": "markdown",
   "source": "Let's suppose that we have a bar with\n\n* Lenght $L$\n* Elasticity $E$\n* Poisson $\\nu$\n* Diameter $d$\n\nAnd it's tracted with a force $P$, as shown in the figure",
   "metadata": {
    "cell_id": "e59e57f1c3fa471d940d8c6f89846185",
    "tags": [],
    "owner_user_id": "4ceab1a1-ba24-4c76-8c5a-89e7333425d4",
    "deepnote_cell_type": "markdown",
    "deepnote_cell_height": 379.3999938964844
   }
  },
  {
   "cell_type": "markdown",
   "source": "With the Euler-Bernoulli Beam, we will have\n\n$$\nN(x) = P\n$$\n$$\nV(x) = 0\n$$\n$$\nM(x) = 0\n$$",
   "metadata": {
    "cell_id": "f22a109a84a0483f8a00a8204a34e779",
    "tags": [],
    "deepnote_cell_type": "markdown",
    "deepnote_cell_height": 175.60000610351562
   }
  },
  {
   "cell_type": "markdown",
   "source": "Our solution is only\n\n$$\nu(x) = \\dfrac{P}{EA} \\cdot \\dfrac{x}{L} = \\dfrac{4P}{\\pi E d^2} \\cdot \\dfrac{x}{L}\n$$",
   "metadata": {
    "cell_id": "89d6aef4187e4bc6805bb43681eabc9a",
    "tags": [],
    "deepnote_cell_type": "markdown",
    "deepnote_cell_height": 115.06666564941406
   }
  },
  {
   "cell_type": "markdown",
   "source": "Now, let's go to the code",
   "metadata": {
    "cell_id": "91cc63027d3048a18560df0accf31887",
    "tags": [],
    "deepnote_cell_type": "markdown",
    "deepnote_cell_height": 52.399993896484375
   }
  },
  {
   "cell_type": "markdown",
   "source": "# Implementation",
   "metadata": {
    "cell_id": "d59eb20d797040a8b272d591cfcaf1e1",
    "tags": [],
    "deepnote_cell_type": "markdown",
    "deepnote_cell_height": 82
   }
  },
  {
   "cell_type": "markdown",
   "source": "The initial values",
   "metadata": {
    "cell_id": "393f55617f764213a71170e57146df83",
    "tags": [],
    "deepnote_cell_type": "markdown",
    "deepnote_cell_height": 52.399993896484375
   }
  },
  {
   "cell_type": "code",
   "metadata": {
    "cell_id": "e0485d607b674e3e80c2a86d9b0148f2",
    "tags": [],
    "deepnote_to_be_reexecuted": false,
    "source_hash": "31d44756",
    "execution_start": 1654991781511,
    "execution_millis": 1224957,
    "deepnote_cell_type": "code",
    "deepnote_cell_height": 171
   },
   "source": "import numpy as np\nL = 1\nE = 4/np.pi\nnu = 0.0  # This value doesn't matter to the final answer, but it's needed\nd = 2\nP = 4",
   "execution_count": 1,
   "outputs": []
  },
  {
   "cell_type": "markdown",
   "source": "We create the material we will use",
   "metadata": {
    "cell_id": "96f5c9ca180345d49f082985997c3658",
    "tags": [],
    "deepnote_cell_type": "markdown",
    "deepnote_cell_height": 52.399993896484375
   }
  },
  {
   "cell_type": "code",
   "metadata": {
    "cell_id": "f98ab0544d8a4c7f8538b8aba0167ec2",
    "tags": [],
    "deepnote_to_be_reexecuted": false,
    "source_hash": "18f69289",
    "execution_start": 1654991781555,
    "execution_millis": 1224927,
    "deepnote_cell_type": "code",
    "deepnote_cell_height": 99
   },
   "source": "from material import Isotropic\nsteel = Isotropic(E=E, nu=nu)",
   "execution_count": 2,
   "outputs": []
  },
  {
   "cell_type": "markdown",
   "source": "We create our section",
   "metadata": {
    "cell_id": "12bc9bd38c4244f0923cb9819d4b2a3c",
    "tags": [],
    "deepnote_cell_type": "markdown",
    "deepnote_cell_height": 52.399993896484375
   }
  },
  {
   "cell_type": "code",
   "metadata": {
    "cell_id": "88e3e1d2196b44cfbfd6770c3483409b",
    "tags": [],
    "deepnote_to_be_reexecuted": false,
    "source_hash": "551c8bf8",
    "execution_start": 1654991781555,
    "execution_millis": 1224949,
    "deepnote_cell_type": "code",
    "deepnote_cell_height": 99
   },
   "source": "from section import Circle\ncircle = Circle(R=d/2, nu=nu)",
   "execution_count": 3,
   "outputs": []
  },
  {
   "cell_type": "markdown",
   "source": "We create the beam",
   "metadata": {
    "cell_id": "d7bc293839f74c7cbe41e81dd6135a05",
    "tags": [],
    "deepnote_cell_type": "markdown",
    "deepnote_cell_height": 52.399993896484375
   }
  },
  {
   "cell_type": "code",
   "metadata": {
    "cell_id": "a2ea5c9d361345979340509dfd171df2",
    "tags": [],
    "deepnote_to_be_reexecuted": false,
    "source_hash": "860b0a91",
    "execution_start": 1654991781556,
    "execution_millis": 2492,
    "deepnote_cell_type": "code",
    "deepnote_cell_height": 171
   },
   "source": "from beam import EulerBernoulli\nA = (0, 0, 0)\nB = (L, 0, 0)\nbar = EulerBernoulli(A, B)\nbar.material = steel\nbar.section = circle",
   "execution_count": 4,
   "outputs": []
  },
  {
   "cell_type": "markdown",
   "source": "We add the displacement vector ```U``` and the force ```F```\n\nThe values of ```U``` are\n\n$$\n\\bold{U} =\n\\begin{bmatrix}\nu_{1x} & u_{1y} & u_{1z} & \\theta_{1x} & \\theta_{1y} & \\theta_{1z} \\\\\n\\vdots & \\vdots & \\vdots & \\vdots & \\vdots & \\vdots \\\\\nu_{ix} & u_{iy} & u_{iz} & \\theta_{ix} & \\theta_{iy} & \\theta_{2z} \\\\\n\\vdots & \\vdots & \\vdots & \\vdots & \\vdots & \\vdots \\\\\nu_{nx} & u_{ny} & u_{nz} & \\theta_{nx} & \\theta_{ny} & \\theta_{nz} \\\\\n\\end{bmatrix}\n$$\n\n",
   "metadata": {
    "cell_id": "6ff3869e6e9c4655b1d2fca15adf0a78",
    "tags": [],
    "deepnote_cell_type": "markdown",
    "deepnote_cell_height": 220.46665954589844
   }
  },
  {
   "cell_type": "markdown",
   "source": "And the values of ```F``` are\n\n$$\n\\bold{F} =\n\\begin{bmatrix}\nF_{1x} & F_{1y} & F_{1z} & M_{1x} & M_{1y} & M_{1z} \\\\\n\\vdots & \\vdots & \\vdots & \\vdots & \\vdots & \\vdots \\\\\nF_{ix} & F_{iy} & F_{iz} & M_{ix} & M_{iy} & M_{2z} \\\\\n\\vdots & \\vdots & \\vdots & \\vdots & \\vdots & \\vdots \\\\\nF_{nx} & F_{ny} & F_{nz} & M_{nx} & M_{ny} & M_{nz} \\\\\n\\end{bmatrix}\n$$",
   "metadata": {
    "cell_id": "53690edc0cbd4441b0a20c6e5d4852f1",
    "tags": [],
    "deepnote_cell_type": "markdown",
    "deepnote_cell_height": 184.06666564941406
   }
  },
  {
   "cell_type": "markdown",
   "source": "So, ```U[i]``` means the displacement (and rotation) of the point ```i```, and the ```F[i]``` is the force applied in the node ```i```",
   "metadata": {
    "cell_id": "29eeeba59e7f414196a8184d425ba505",
    "tags": [],
    "deepnote_cell_type": "markdown",
    "deepnote_cell_height": 74.80000305175781
   }
  },
  {
   "cell_type": "code",
   "metadata": {
    "cell_id": "f688657b07a44ebd8ac15c1eabcd188e",
    "tags": [],
    "deepnote_to_be_reexecuted": false,
    "source_hash": "c499b74e",
    "execution_start": 1654991784063,
    "execution_millis": 20,
    "deepnote_cell_type": "code",
    "deepnote_cell_height": 117
   },
   "source": "n = 2  # number of points\nU = np.empty((n, 6), dtype=\"object\")\nF = np.zeros((n, 6))",
   "execution_count": 5,
   "outputs": []
  },
  {
   "cell_type": "markdown",
   "source": "We add the boundary conditions. \n\nFor that, we only know that at point $A$ (index ```0```), $u_{x}$ is fixed.\n\nSo, ```U``` is like\n\n$$\n\\bold{U}\n= \\begin{bmatrix}\n0 & u_{Ay} & u_{Az} & \\theta_{Ax} & \\theta_{Ay} & \\theta_{Az} \\\\\nu_{Bx} & u_{By} & u_{Bz} & \\theta_{Bx} & \\theta_{By} & \\theta_{Bz} \\\\ \n\\end{bmatrix}\n$$",
   "metadata": {
    "cell_id": "9eb56e8f1ed34f2bb796adde35911425",
    "tags": [],
    "deepnote_cell_type": "markdown",
    "deepnote_cell_height": 193.86666870117188
   }
  },
  {
   "cell_type": "code",
   "metadata": {
    "cell_id": "61a4da650bf04659978417c54e0a6b6a",
    "tags": [],
    "deepnote_to_be_reexecuted": false,
    "source_hash": "1d845600",
    "execution_start": 1654991784150,
    "execution_millis": 2,
    "deepnote_cell_type": "code",
    "deepnote_cell_height": 186
   },
   "source": "U[0, 0] = 0  # At point A, ux = 0\nprint(\"U = \")\nprint(U)",
   "execution_count": 6,
   "outputs": [
    {
     "name": "stdout",
     "text": "U = \n[[0 None None None None None]\n [None None None None None None]]\n",
     "output_type": "stream"
    }
   ]
  },
  {
   "cell_type": "markdown",
   "source": "We add the force at the point $B$.\n\nFor that, we know that at point $B$ (index ```1```), $F_{x} = P$.\n\nSo, ```F``` is like\n\n$$\n\\bold{F} =\n\\begin{bmatrix}\n0 & 0 & 0 & 0 & 0 & 0 \\\\\nP & 0 & 0 & 0 & 0 & 0\n\\end{bmatrix}\n$$",
   "metadata": {
    "cell_id": "05568d6ce4ad44a48a0c6c93ed670be9",
    "tags": [],
    "deepnote_cell_type": "markdown",
    "deepnote_cell_height": 193.86666870117188
   }
  },
  {
   "cell_type": "code",
   "metadata": {
    "cell_id": "0486f0f6707a4a33937ce503a7ec08b3",
    "tags": [],
    "deepnote_to_be_reexecuted": false,
    "source_hash": "762a7303",
    "execution_start": 1654991784194,
    "execution_millis": 2,
    "deepnote_cell_type": "code",
    "deepnote_cell_height": 186
   },
   "source": "F[1, 0] = P  # At point B, Fx = P\nprint(\"F = \")\nprint(F)",
   "execution_count": 7,
   "outputs": [
    {
     "name": "stdout",
     "text": "F = \n[[0. 0. 0. 0. 0. 0.]\n [4. 0. 0. 0. 0. 0.]]\n",
     "output_type": "stream"
    }
   ]
  },
  {
   "cell_type": "markdown",
   "source": "We get the stiffness matrix $K$.\n\nThe matrix is given by\n\n$$\n\\bold{K}_{11} = \n\\begin{bmatrix}\n\\frac{EA_x}{L} & 0 & 0 & 0 & 0 & 0 \\\\\n0 & \\frac{12EI_{z}}{L^3} & 0 & 0 & 0 & \\frac{6EI_{z}}{L^2} \\\\\n0 & 0 & \\frac{12EI_{y}}{L^3} &  0 & \\frac{-6EI_{y}}{L^2} \\\\\n0 & 0 & 0 & \\frac{GJ}{L} & 0 & 0 \\\\\n0 & 0 & \\frac{-6EI_{y}}{L^2} & 0 & \\frac{4EI_{y}}{L} & 0 \\\\\n0 & \\frac{6EI_{z}}{L^2}& 0 & 0 & 0 & \\frac{4EI_{z}}{L} \n\\end{bmatrix}\n$$\n\n$$\n\\bold{K}_{12} = \n\\begin{bmatrix}\n\\frac{-EA_x}{L} & 0 & 0 & 0 & 0 & 0 \\\\\n0 & \\frac{-12EI_{z}}{L^3} & 0 & 0 & 0 & \\frac{6EI_{z}}{L^2} \\\\\n0 & 0 & \\frac{-12EI_{y}}{L^3} &  0 & \\frac{-6EI_{y}}{L^2} \\\\\n0 & 0 & 0 & \\frac{-GJ}{L} & 0 & 0 \\\\\n0 & 0 & \\frac{6EI_{y}}{L^2} & 0 & \\frac{2EI_{y}}{L} & 0 \\\\\n0 & \\frac{-6EI_{z}}{L^2}& 0 & 0 & 0 & \\frac{2EI_{z}}{L} \n\\end{bmatrix}\n$$\n\n$$\n\\bold{K}_{22} = \n\\begin{bmatrix}\n\\frac{EA_x}{L} & 0 & 0 & 0 & 0 & 0 \\\\\n0 & \\frac{12EI_{z}}{L^3} & 0 & 0 & 0 & \\frac{-6EI_{z}}{L^2} \\\\\n0 & 0 & \\frac{12EI_{y}}{L^3} &  0 & \\frac{6EI_{y}}{L^2} \\\\\n0 & 0 & 0 & \\frac{GJ}{L} & 0 & 0 \\\\\n0 & 0 & \\frac{6EI_{y}}{L^2} & 0 & \\frac{4EI_{y}}{L} & 0 \\\\\n0 & \\frac{-6EI_{z}}{L^2}& 0 & 0 & 0 & \\frac{4EI_{z}}{L} \n\\end{bmatrix}\n$$\n\n$$\n\\bold{K} = \n\\begin{bmatrix}\n\\bold{K}_{11} & \\bold{K}_{12} \\\\\n\\bold{K}_{12}^T & \\bold{K}_{22}\n\\end{bmatrix}\n$$",
   "metadata": {
    "cell_id": "e47b4452811a44b68591bc6adbf191e9",
    "tags": [],
    "deepnote_cell_type": "markdown",
    "deepnote_cell_height": 589.2333374023438
   }
  },
  {
   "cell_type": "markdown",
   "source": "For exemple, with the values of\n\n$$\nL = 1; \\ \\ \\ \\ \\ \\ E = \\dfrac{4}{\\pi}; \\ \\ \\ \\ \\ \\ \\nu = 0 ; \\ \\ \\ \\ \\ \\ d = 2\n$$\n\nWe have the matrix\n",
   "metadata": {
    "cell_id": "97317cc1b68c4ee68c8e2db6936374f8",
    "tags": [],
    "deepnote_cell_type": "markdown",
    "deepnote_cell_height": 136.8000030517578
   }
  },
  {
   "cell_type": "markdown",
   "source": "$$\nK = \n\\begin{bmatrix}\n4 & & & & & & -4 & & & & & \\\\\n& 12 & & & & 6 & & -12 &  & & & 6 \\\\\n& & 12 & & -6 & & & & -12 & & -6 & \\\\\n& & & 1 & & & & & & -1 & & \\\\\n& & -6 & & 4 & & & & 6 & & 2 & \\\\\n& 6 & & & & 4 & & -6 &  & & & 2 \\\\\n-4 & & & & & & 4 & & & & & \\\\\n& -12 & & & & -6 & & 12 &  & & & -6 \\\\\n& & -12 & & 6 & & & & 12 & & 6 & \\\\\n& & & -1 & & & & & & 1 & & \\\\\n& & -6 & & 2 & & & & 6 & & 4 & \\\\\n& 6 & & & & 2 & & -6 &  & & & 4 \\\\\n\\end{bmatrix}\n$$",
   "metadata": {
    "cell_id": "a202eebdb8144ef697c4e489ac33c466",
    "tags": [],
    "deepnote_cell_type": "markdown",
    "deepnote_cell_height": 302.23333740234375
   }
  },
  {
   "cell_type": "code",
   "metadata": {
    "cell_id": "f412c1eb2b814da5919414917c5ba734",
    "tags": [],
    "deepnote_to_be_reexecuted": false,
    "source_hash": "6e32f252",
    "execution_start": 1654991784239,
    "execution_millis": 34,
    "deepnote_cell_type": "code",
    "deepnote_cell_height": 378
   },
   "source": "K = bar.stiffness_matrix()\nprint(\"K = \")\nprint(K.reshape(12, 12))",
   "execution_count": 8,
   "outputs": [
    {
     "name": "stdout",
     "text": "K = \n[[  4.   0.   0.   0.   0.   0.  -4.   0.   0.   0.   0.   0.]\n [  0.  12.   0.   0.   0.   6.   0. -12.   0.   0.   0.   6.]\n [  0.   0.  12.   0.  -6.   0.   0.   0. -12.   0.  -6.   0.]\n [  0.   0.   0.   1.   0.   0.   0.   0.   0.  -1.   0.   0.]\n [  0.   0.  -6.   0.   4.   0.   0.   0.   6.   0.   2.   0.]\n [  0.   6.   0.   0.   0.   4.   0.  -6.   0.   0.   0.   2.]\n [ -4.   0.   0.   0.   0.   0.   4.   0.   0.   0.   0.   0.]\n [  0. -12.   0.   0.   0.  -6.   0.  12.   0.   0.   0.  -6.]\n [  0.   0. -12.   0.   6.   0.   0.   0.  12.   0.   6.   0.]\n [  0.   0.   0.  -1.   0.   0.   0.   0.   0.   1.   0.   0.]\n [  0.   0.  -6.   0.   2.   0.   0.   0.   6.   0.   4.   0.]\n [  0.   6.   0.   0.   0.   2.   0.  -6.   0.   0.   0.   4.]]\n",
     "output_type": "stream"
    }
   ]
  },
  {
   "cell_type": "markdown",
   "source": "Now we solve:",
   "metadata": {
    "cell_id": "39d067f5e69045efa162486913d198a9",
    "tags": [],
    "deepnote_cell_type": "markdown",
    "deepnote_cell_height": 52.399993896484375
   }
  },
  {
   "cell_type": "code",
   "metadata": {
    "cell_id": "1d6c0ddd74f143f3a2fcccae6423ea48",
    "tags": [],
    "deepnote_to_be_reexecuted": false,
    "source_hash": "30e06377",
    "execution_start": 1654991784283,
    "execution_millis": 648,
    "deepnote_cell_type": "code",
    "deepnote_cell_height": 336
   },
   "source": "from solver import solve\nU, F = solve(K, F, U)\nprint(\"U = \")\nprint(U)\nprint(\"F = \")\nprint(F)",
   "execution_count": 9,
   "outputs": [
    {
     "name": "stdout",
     "text": "U = \n[[0 0.0 -1.2711137632955748e-32 -5.036040116209269e-17\n  -9.426707840301335e-17 1.729915820564182e-17]\n [1.0 -4.710001158988464e-17 1.6828776378656905e-16\n  -5.0360401162092794e-17 -2.4230844917012476e-16 -1.1149918138541112e-16]]\nF = \n[[-4.  0.  0.  0.  0.  0.]\n [ 4.  0.  0.  0.  0.  0.]]\n",
     "output_type": "stream"
    }
   ]
  },
  {
   "cell_type": "markdown",
   "source": "The expected value of the equation \n\n$$\nu(x) = \\dfrac{4P}{\\pi E d^2} \\cdot \\dfrac{x}{L}\n$$\n\nat $x = L$ and with the given data, gives us \n\n$$\nu(L) = \\dfrac{4 \\cdot 4}{\\pi \\cdot \\dfrac{4}{\\pi} \\cdot \\left(2\\right)^2} \\cdot \\dfrac{1}{1} = 1\n$$",
   "metadata": {
    "cell_id": "c8e98a06e5184ea59e14755a92c4a7b7",
    "tags": [],
    "deepnote_cell_type": "markdown",
    "deepnote_cell_height": 220
   }
  },
  {
   "cell_type": "markdown",
   "source": "<a style='text-decoration:none;line-height:16px;display:flex;color:#5B5B62;padding:10px;justify-content:end;' href='https://deepnote.com?utm_source=created-in-deepnote-cell&projectId=302ab669-ec31-4508-87f9-ef972d3ec2c5' target=\"_blank\">\n<img alt='Created in deepnote.com' style='display:inline;max-height:16px;margin:0px;margin-right:7.5px;' src='data:image/svg+xml;base64,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' > </img>\nCreated in <span style='font-weight:600;margin-left:4px;'>Deepnote</span></a>",
   "metadata": {
    "tags": [],
    "created_in_deepnote_cell": true,
    "deepnote_cell_type": "markdown"
   }
  }
 ],
 "nbformat": 4,
 "nbformat_minor": 2,
 "metadata": {
  "orig_nbformat": 2,
  "deepnote": {},
  "deepnote_notebook_id": "fa953d4a-1209-459e-adb2-3046d187de73",
  "deepnote_execution_queue": []
 }
}