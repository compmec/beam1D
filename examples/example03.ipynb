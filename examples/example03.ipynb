{
 "cells": [
  {
   "cell_type": "markdown",
   "metadata": {},
   "source": [
    "[![Open In Colab](https://colab.research.google.com/assets/colab-badge.svg)](https://colab.research.google.com/github/compmec/strct/blob/main/examples/example03.ipynb)"
   ]
  },
  {
   "cell_type": "markdown",
   "metadata": {},
   "source": [
    "# Example 03\n",
    "\n",
    "![](https://raw.githubusercontent.com/compmec/strct/examples/examples/img/example03_prob.png)\n"
   ]
  },
  {
   "cell_type": "markdown",
   "metadata": {},
   "source": [
    "First we import what we will use."
   ]
  },
  {
   "cell_type": "code",
   "execution_count": 1,
   "metadata": {},
   "outputs": [],
   "source": [
    "try:\n",
    "    import compmec.strct\n",
    "except ModuleNotFoundError as e:\n",
    "    import os\n",
    "    os.system(\"pip install compmec-strct\")\n",
    "from compmec.strct.element import EulerBernoulli\n",
    "from compmec.strct.section import Circle\n",
    "from compmec.strct.material import Isotropic\n",
    "from compmec.strct.system import StaticSystem\n",
    "from compmec.strct.shower import ShowerStaticSystem"
   ]
  },
  {
   "cell_type": "markdown",
   "metadata": {},
   "source": [
    "Then we create the elements we will use "
   ]
  },
  {
   "cell_type": "code",
   "execution_count": 2,
   "metadata": {},
   "outputs": [],
   "source": [
    "A = (0, 0)\n",
    "B = (1000, 0)\n",
    "beamAB = EulerBernoulli([A, B])\n",
    "C = beamAB.path(0.6)\n",
    "beamAB.section = Circle(R=8/2, nu=0.3)\n",
    "beamAB.material = Isotropic(E=210e+3, nu=0.3)"
   ]
  },
  {
   "cell_type": "markdown",
   "metadata": {},
   "source": [
    "Once we have all the elements, we add them into the system"
   ]
  },
  {
   "cell_type": "code",
   "execution_count": 3,
   "metadata": {},
   "outputs": [],
   "source": [
    "system = StaticSystem()\n",
    "system.add_element(beamAB)\n",
    "system.add_BC(A, {\"ux\":0,\n",
    "                  \"uy\":0,\n",
    "                  \"tz\":0})\n",
    "system.add_load(C, {\"Fy\": -10})"
   ]
  },
  {
   "cell_type": "markdown",
   "metadata": {},
   "source": [
    "And now we run the simulation. As it solves a linear system, it may take time.\n",
    "But for this simple example, it's very fast"
   ]
  },
  {
   "cell_type": "code",
   "execution_count": 4,
   "metadata": {},
   "outputs": [],
   "source": [
    "system.run()"
   ]
  },
  {
   "cell_type": "markdown",
   "metadata": {},
   "source": [
    "And then we show the results"
   ]
  },
  {
   "cell_type": "code",
   "execution_count": null,
   "metadata": {},
   "outputs": [],
   "source": [
    "shower = ShowerStaticSystem(system)\n",
    "shower.plot2D(\"xy\", deformed=True)"
   ]
  },
  {
   "cell_type": "markdown",
   "metadata": {},
   "source": [
    "## Online available\n",
    "\n",
    "At [Github/compmec/strct/examples/example03.ipynb](https://github.com/compmec/strct/blob/main/examples/example03.ipynb)"
   ]
  }
 ],
 "metadata": {
  "kernelspec": {
   "display_name": "Python 3.9.1 64-bit",
   "language": "python",
   "name": "python3"
  },
  "language_info": {
   "codemirror_mode": {
    "name": "ipython",
    "version": 3
   },
   "file_extension": ".py",
   "mimetype": "text/x-python",
   "name": "python",
   "nbconvert_exporter": "python",
   "pygments_lexer": "ipython3",
   "version": "3.9.1"
  },
  "orig_nbformat": 4,
  "vscode": {
   "interpreter": {
    "hash": "11938c6bc6919ae2720b4d5011047913343b08a43b18698fd82dedb0d4417594"
   }
  }
 },
 "nbformat": 4,
 "nbformat_minor": 2
}
